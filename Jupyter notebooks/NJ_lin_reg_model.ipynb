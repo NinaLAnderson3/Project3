{
 "cells": [
  {
   "cell_type": "code",
   "execution_count": 1,
   "id": "uniform-instruction",
   "metadata": {},
   "outputs": [],
   "source": [
    "import matplotlib.pyplot as plt\n",
    "import pandas as pd\n",
    "import numpy as np\n",
    "import os"
   ]
  },
  {
   "cell_type": "code",
   "execution_count": 2,
   "id": "eastern-watts",
   "metadata": {
    "scrolled": true
   },
   "outputs": [
    {
     "data": {
      "text/html": [
       "<div>\n",
       "<style scoped>\n",
       "    .dataframe tbody tr th:only-of-type {\n",
       "        vertical-align: middle;\n",
       "    }\n",
       "\n",
       "    .dataframe tbody tr th {\n",
       "        vertical-align: top;\n",
       "    }\n",
       "\n",
       "    .dataframe thead th {\n",
       "        text-align: right;\n",
       "    }\n",
       "</style>\n",
       "<table border=\"1\" class=\"dataframe\">\n",
       "  <thead>\n",
       "    <tr style=\"text-align: right;\">\n",
       "      <th></th>\n",
       "      <th>county</th>\n",
       "      <th>year</th>\n",
       "      <th>violent_crime</th>\n",
       "      <th>murder</th>\n",
       "      <th>rape</th>\n",
       "      <th>robbery</th>\n",
       "      <th>aggravated_assault</th>\n",
       "      <th>property_crime</th>\n",
       "      <th>burglary</th>\n",
       "      <th>larceny_theft</th>\n",
       "      <th>...</th>\n",
       "      <th>frm_15</th>\n",
       "      <th>points_15</th>\n",
       "      <th>median_hh_income</th>\n",
       "      <th>median_hh_inc_moe</th>\n",
       "      <th>poverty_count</th>\n",
       "      <th>poverty_count_moe</th>\n",
       "      <th>poverty_rate</th>\n",
       "      <th>poverty_rate_moe</th>\n",
       "      <th>county_fips</th>\n",
       "      <th>price</th>\n",
       "    </tr>\n",
       "  </thead>\n",
       "  <tbody>\n",
       "    <tr>\n",
       "      <th>0</th>\n",
       "      <td>Atlantic</td>\n",
       "      <td>2019</td>\n",
       "      <td>0</td>\n",
       "      <td>0</td>\n",
       "      <td>0</td>\n",
       "      <td>0</td>\n",
       "      <td>0</td>\n",
       "      <td>0</td>\n",
       "      <td>0</td>\n",
       "      <td>0</td>\n",
       "      <td>...</td>\n",
       "      <td>3.391731</td>\n",
       "      <td>0.475</td>\n",
       "      <td>62678</td>\n",
       "      <td>2822</td>\n",
       "      <td>29057</td>\n",
       "      <td>4251</td>\n",
       "      <td>1.6</td>\n",
       "      <td>11.3</td>\n",
       "      <td>1</td>\n",
       "      <td>196067.42</td>\n",
       "    </tr>\n",
       "    <tr>\n",
       "      <th>1</th>\n",
       "      <td>Bergen</td>\n",
       "      <td>2019</td>\n",
       "      <td>2</td>\n",
       "      <td>0</td>\n",
       "      <td>2</td>\n",
       "      <td>0</td>\n",
       "      <td>0</td>\n",
       "      <td>46</td>\n",
       "      <td>2</td>\n",
       "      <td>44</td>\n",
       "      <td>...</td>\n",
       "      <td>3.391731</td>\n",
       "      <td>0.475</td>\n",
       "      <td>107971</td>\n",
       "      <td>3025</td>\n",
       "      <td>52980</td>\n",
       "      <td>7662</td>\n",
       "      <td>0.8</td>\n",
       "      <td>5.7</td>\n",
       "      <td>3</td>\n",
       "      <td>494018.42</td>\n",
       "    </tr>\n",
       "    <tr>\n",
       "      <th>2</th>\n",
       "      <td>Burlington</td>\n",
       "      <td>2019</td>\n",
       "      <td>0</td>\n",
       "      <td>0</td>\n",
       "      <td>0</td>\n",
       "      <td>0</td>\n",
       "      <td>0</td>\n",
       "      <td>0</td>\n",
       "      <td>0</td>\n",
       "      <td>0</td>\n",
       "      <td>...</td>\n",
       "      <td>3.391731</td>\n",
       "      <td>0.475</td>\n",
       "      <td>88443</td>\n",
       "      <td>3233</td>\n",
       "      <td>24961</td>\n",
       "      <td>4374</td>\n",
       "      <td>1.0</td>\n",
       "      <td>5.7</td>\n",
       "      <td>5</td>\n",
       "      <td>238593.67</td>\n",
       "    </tr>\n",
       "    <tr>\n",
       "      <th>3</th>\n",
       "      <td>Camden</td>\n",
       "      <td>2019</td>\n",
       "      <td>2</td>\n",
       "      <td>0</td>\n",
       "      <td>0</td>\n",
       "      <td>0</td>\n",
       "      <td>2</td>\n",
       "      <td>44</td>\n",
       "      <td>4</td>\n",
       "      <td>38</td>\n",
       "      <td>...</td>\n",
       "      <td>3.391731</td>\n",
       "      <td>0.475</td>\n",
       "      <td>73168</td>\n",
       "      <td>2374</td>\n",
       "      <td>53641</td>\n",
       "      <td>7048</td>\n",
       "      <td>1.4</td>\n",
       "      <td>10.7</td>\n",
       "      <td>7</td>\n",
       "      <td>181980.75</td>\n",
       "    </tr>\n",
       "    <tr>\n",
       "      <th>4</th>\n",
       "      <td>Cape May</td>\n",
       "      <td>2019</td>\n",
       "      <td>0</td>\n",
       "      <td>0</td>\n",
       "      <td>0</td>\n",
       "      <td>0</td>\n",
       "      <td>0</td>\n",
       "      <td>0</td>\n",
       "      <td>0</td>\n",
       "      <td>0</td>\n",
       "      <td>...</td>\n",
       "      <td>3.391731</td>\n",
       "      <td>0.475</td>\n",
       "      <td>66565</td>\n",
       "      <td>4753</td>\n",
       "      <td>8853</td>\n",
       "      <td>1981</td>\n",
       "      <td>2.2</td>\n",
       "      <td>9.8</td>\n",
       "      <td>9</td>\n",
       "      <td>389294.58</td>\n",
       "    </tr>\n",
       "  </tbody>\n",
       "</table>\n",
       "<p>5 rows × 24 columns</p>\n",
       "</div>"
      ],
      "text/plain": [
       "       county  year  violent_crime  murder  rape  robbery  aggravated_assault  \\\n",
       "0    Atlantic  2019              0       0     0        0                   0   \n",
       "1      Bergen  2019              2       0     2        0                   0   \n",
       "2  Burlington  2019              0       0     0        0                   0   \n",
       "3      Camden  2019              2       0     0        0                   2   \n",
       "4    Cape May  2019              0       0     0        0                   0   \n",
       "\n",
       "   property_crime  burglary  larceny_theft  ...    frm_15  points_15  \\\n",
       "0               0         0              0  ...  3.391731      0.475   \n",
       "1              46         2             44  ...  3.391731      0.475   \n",
       "2               0         0              0  ...  3.391731      0.475   \n",
       "3              44         4             38  ...  3.391731      0.475   \n",
       "4               0         0              0  ...  3.391731      0.475   \n",
       "\n",
       "   median_hh_income  median_hh_inc_moe  poverty_count  poverty_count_moe  \\\n",
       "0             62678               2822          29057               4251   \n",
       "1            107971               3025          52980               7662   \n",
       "2             88443               3233          24961               4374   \n",
       "3             73168               2374          53641               7048   \n",
       "4             66565               4753           8853               1981   \n",
       "\n",
       "   poverty_rate  poverty_rate_moe  county_fips      price  \n",
       "0           1.6              11.3            1  196067.42  \n",
       "1           0.8               5.7            3  494018.42  \n",
       "2           1.0               5.7            5  238593.67  \n",
       "3           1.4              10.7            7  181980.75  \n",
       "4           2.2               9.8            9  389294.58  \n",
       "\n",
       "[5 rows x 24 columns]"
      ]
     },
     "execution_count": 2,
     "metadata": {},
     "output_type": "execute_result"
    }
   ],
   "source": [
    "df = pd.read_csv('../Resources/final_data.csv')\n",
    "df.head()"
   ]
  },
  {
   "cell_type": "code",
   "execution_count": 3,
   "id": "immediate-berry",
   "metadata": {},
   "outputs": [],
   "source": [
    "df.dropna(how='any', inplace = True)"
   ]
  },
  {
   "cell_type": "code",
   "execution_count": 4,
   "id": "similar-torture",
   "metadata": {},
   "outputs": [
    {
     "data": {
      "text/plain": [
       "county                  object\n",
       "year                     int64\n",
       "violent_crime            int64\n",
       "murder                   int64\n",
       "rape                     int64\n",
       "robbery                  int64\n",
       "aggravated_assault       int64\n",
       "property_crime           int64\n",
       "burglary                 int64\n",
       "larceny_theft            int64\n",
       "motor_vehicle_theft      int64\n",
       "arson                    int64\n",
       "frm_30                 float64\n",
       "points_30              float64\n",
       "frm_15                 float64\n",
       "points_15              float64\n",
       "median_hh_income         int64\n",
       "median_hh_inc_moe        int64\n",
       "poverty_count            int64\n",
       "poverty_count_moe        int64\n",
       "poverty_rate           float64\n",
       "poverty_rate_moe       float64\n",
       "county_fips              int64\n",
       "price                  float64\n",
       "dtype: object"
      ]
     },
     "execution_count": 4,
     "metadata": {},
     "output_type": "execute_result"
    }
   ],
   "source": [
    "df.dtypes"
   ]
  },
  {
   "cell_type": "code",
   "execution_count": 5,
   "id": "wrong-kansas",
   "metadata": {
    "scrolled": true
   },
   "outputs": [
    {
     "data": {
      "text/html": [
       "<div>\n",
       "<style scoped>\n",
       "    .dataframe tbody tr th:only-of-type {\n",
       "        vertical-align: middle;\n",
       "    }\n",
       "\n",
       "    .dataframe tbody tr th {\n",
       "        vertical-align: top;\n",
       "    }\n",
       "\n",
       "    .dataframe thead th {\n",
       "        text-align: right;\n",
       "    }\n",
       "</style>\n",
       "<table border=\"1\" class=\"dataframe\">\n",
       "  <thead>\n",
       "    <tr style=\"text-align: right;\">\n",
       "      <th></th>\n",
       "      <th>year</th>\n",
       "      <th>violent_crime</th>\n",
       "      <th>murder</th>\n",
       "      <th>rape</th>\n",
       "      <th>robbery</th>\n",
       "      <th>aggravated_assault</th>\n",
       "      <th>property_crime</th>\n",
       "      <th>burglary</th>\n",
       "      <th>larceny_theft</th>\n",
       "      <th>motor_vehicle_theft</th>\n",
       "      <th>...</th>\n",
       "      <th>frm_15</th>\n",
       "      <th>points_15</th>\n",
       "      <th>median_hh_income</th>\n",
       "      <th>median_hh_inc_moe</th>\n",
       "      <th>poverty_count</th>\n",
       "      <th>poverty_count_moe</th>\n",
       "      <th>poverty_rate</th>\n",
       "      <th>poverty_rate_moe</th>\n",
       "      <th>county_fips</th>\n",
       "      <th>price</th>\n",
       "    </tr>\n",
       "  </thead>\n",
       "  <tbody>\n",
       "    <tr>\n",
       "      <th>count</th>\n",
       "      <td>164.000000</td>\n",
       "      <td>164.000000</td>\n",
       "      <td>164.000000</td>\n",
       "      <td>164.000000</td>\n",
       "      <td>164.000000</td>\n",
       "      <td>164.000000</td>\n",
       "      <td>164.000000</td>\n",
       "      <td>164.000000</td>\n",
       "      <td>164.000000</td>\n",
       "      <td>164.000000</td>\n",
       "      <td>...</td>\n",
       "      <td>164.000000</td>\n",
       "      <td>164.000000</td>\n",
       "      <td>164.000000</td>\n",
       "      <td>164.000000</td>\n",
       "      <td>164.000000</td>\n",
       "      <td>164.000000</td>\n",
       "      <td>164.000000</td>\n",
       "      <td>164.000000</td>\n",
       "      <td>164.000000</td>\n",
       "      <td>164.000000</td>\n",
       "    </tr>\n",
       "    <tr>\n",
       "      <th>mean</th>\n",
       "      <td>2015.548780</td>\n",
       "      <td>45.243902</td>\n",
       "      <td>1.036585</td>\n",
       "      <td>1.804878</td>\n",
       "      <td>15.000000</td>\n",
       "      <td>27.402439</td>\n",
       "      <td>78.487805</td>\n",
       "      <td>19.475610</td>\n",
       "      <td>48.804878</td>\n",
       "      <td>10.207317</td>\n",
       "      <td>...</td>\n",
       "      <td>3.254108</td>\n",
       "      <td>0.553209</td>\n",
       "      <td>76257.286585</td>\n",
       "      <td>3172.719512</td>\n",
       "      <td>44146.487805</td>\n",
       "      <td>4914.469512</td>\n",
       "      <td>1.290244</td>\n",
       "      <td>10.117073</td>\n",
       "      <td>20.707317</td>\n",
       "      <td>298130.227134</td>\n",
       "    </tr>\n",
       "    <tr>\n",
       "      <th>std</th>\n",
       "      <td>2.297785</td>\n",
       "      <td>257.030067</td>\n",
       "      <td>6.735940</td>\n",
       "      <td>10.681604</td>\n",
       "      <td>86.123894</td>\n",
       "      <td>154.915640</td>\n",
       "      <td>448.818538</td>\n",
       "      <td>117.879498</td>\n",
       "      <td>268.929846</td>\n",
       "      <td>64.098513</td>\n",
       "      <td>...</td>\n",
       "      <td>0.326532</td>\n",
       "      <td>0.089556</td>\n",
       "      <td>18102.044916</td>\n",
       "      <td>1189.460973</td>\n",
       "      <td>33166.224140</td>\n",
       "      <td>2536.482615</td>\n",
       "      <td>0.449842</td>\n",
       "      <td>4.183676</td>\n",
       "      <td>12.146840</td>\n",
       "      <td>97335.378313</td>\n",
       "    </tr>\n",
       "    <tr>\n",
       "      <th>min</th>\n",
       "      <td>2012.000000</td>\n",
       "      <td>0.000000</td>\n",
       "      <td>0.000000</td>\n",
       "      <td>0.000000</td>\n",
       "      <td>0.000000</td>\n",
       "      <td>0.000000</td>\n",
       "      <td>0.000000</td>\n",
       "      <td>0.000000</td>\n",
       "      <td>0.000000</td>\n",
       "      <td>0.000000</td>\n",
       "      <td>...</td>\n",
       "      <td>2.930769</td>\n",
       "      <td>0.450000</td>\n",
       "      <td>45438.000000</td>\n",
       "      <td>1241.000000</td>\n",
       "      <td>4793.000000</td>\n",
       "      <td>918.000000</td>\n",
       "      <td>0.700000</td>\n",
       "      <td>3.900000</td>\n",
       "      <td>1.000000</td>\n",
       "      <td>136466.170000</td>\n",
       "    </tr>\n",
       "    <tr>\n",
       "      <th>25%</th>\n",
       "      <td>2014.000000</td>\n",
       "      <td>0.000000</td>\n",
       "      <td>0.000000</td>\n",
       "      <td>0.000000</td>\n",
       "      <td>0.000000</td>\n",
       "      <td>0.000000</td>\n",
       "      <td>0.000000</td>\n",
       "      <td>0.000000</td>\n",
       "      <td>0.000000</td>\n",
       "      <td>0.000000</td>\n",
       "      <td>...</td>\n",
       "      <td>3.049231</td>\n",
       "      <td>0.475000</td>\n",
       "      <td>61643.000000</td>\n",
       "      <td>2324.000000</td>\n",
       "      <td>17951.250000</td>\n",
       "      <td>3231.500000</td>\n",
       "      <td>0.900000</td>\n",
       "      <td>6.675000</td>\n",
       "      <td>11.000000</td>\n",
       "      <td>219140.397500</td>\n",
       "    </tr>\n",
       "    <tr>\n",
       "      <th>50%</th>\n",
       "      <td>2016.000000</td>\n",
       "      <td>0.000000</td>\n",
       "      <td>0.000000</td>\n",
       "      <td>0.000000</td>\n",
       "      <td>0.000000</td>\n",
       "      <td>0.000000</td>\n",
       "      <td>0.000000</td>\n",
       "      <td>0.000000</td>\n",
       "      <td>0.000000</td>\n",
       "      <td>0.000000</td>\n",
       "      <td>...</td>\n",
       "      <td>3.272500</td>\n",
       "      <td>0.492308</td>\n",
       "      <td>74839.000000</td>\n",
       "      <td>2986.000000</td>\n",
       "      <td>38007.500000</td>\n",
       "      <td>4593.500000</td>\n",
       "      <td>1.200000</td>\n",
       "      <td>9.400000</td>\n",
       "      <td>21.000000</td>\n",
       "      <td>304646.500000</td>\n",
       "    </tr>\n",
       "    <tr>\n",
       "      <th>75%</th>\n",
       "      <td>2018.000000</td>\n",
       "      <td>1.000000</td>\n",
       "      <td>0.000000</td>\n",
       "      <td>0.000000</td>\n",
       "      <td>0.000000</td>\n",
       "      <td>1.000000</td>\n",
       "      <td>1.000000</td>\n",
       "      <td>0.000000</td>\n",
       "      <td>1.000000</td>\n",
       "      <td>0.000000</td>\n",
       "      <td>...</td>\n",
       "      <td>3.391731</td>\n",
       "      <td>0.576923</td>\n",
       "      <td>87302.250000</td>\n",
       "      <td>3830.000000</td>\n",
       "      <td>64436.000000</td>\n",
       "      <td>7148.250000</td>\n",
       "      <td>1.425000</td>\n",
       "      <td>13.025000</td>\n",
       "      <td>31.000000</td>\n",
       "      <td>379712.747500</td>\n",
       "    </tr>\n",
       "    <tr>\n",
       "      <th>max</th>\n",
       "      <td>2019.000000</td>\n",
       "      <td>1950.000000</td>\n",
       "      <td>57.000000</td>\n",
       "      <td>88.000000</td>\n",
       "      <td>732.000000</td>\n",
       "      <td>1106.000000</td>\n",
       "      <td>3260.000000</td>\n",
       "      <td>857.000000</td>\n",
       "      <td>1939.000000</td>\n",
       "      <td>504.000000</td>\n",
       "      <td>...</td>\n",
       "      <td>4.000192</td>\n",
       "      <td>0.700000</td>\n",
       "      <td>119731.000000</td>\n",
       "      <td>8348.000000</td>\n",
       "      <td>136161.000000</td>\n",
       "      <td>10428.000000</td>\n",
       "      <td>2.800000</td>\n",
       "      <td>20.100000</td>\n",
       "      <td>41.000000</td>\n",
       "      <td>494018.420000</td>\n",
       "    </tr>\n",
       "  </tbody>\n",
       "</table>\n",
       "<p>8 rows × 23 columns</p>\n",
       "</div>"
      ],
      "text/plain": [
       "              year  violent_crime      murder        rape     robbery  \\\n",
       "count   164.000000     164.000000  164.000000  164.000000  164.000000   \n",
       "mean   2015.548780      45.243902    1.036585    1.804878   15.000000   \n",
       "std       2.297785     257.030067    6.735940   10.681604   86.123894   \n",
       "min    2012.000000       0.000000    0.000000    0.000000    0.000000   \n",
       "25%    2014.000000       0.000000    0.000000    0.000000    0.000000   \n",
       "50%    2016.000000       0.000000    0.000000    0.000000    0.000000   \n",
       "75%    2018.000000       1.000000    0.000000    0.000000    0.000000   \n",
       "max    2019.000000    1950.000000   57.000000   88.000000  732.000000   \n",
       "\n",
       "       aggravated_assault  property_crime    burglary  larceny_theft  \\\n",
       "count          164.000000      164.000000  164.000000     164.000000   \n",
       "mean            27.402439       78.487805   19.475610      48.804878   \n",
       "std            154.915640      448.818538  117.879498     268.929846   \n",
       "min              0.000000        0.000000    0.000000       0.000000   \n",
       "25%              0.000000        0.000000    0.000000       0.000000   \n",
       "50%              0.000000        0.000000    0.000000       0.000000   \n",
       "75%              1.000000        1.000000    0.000000       1.000000   \n",
       "max           1106.000000     3260.000000  857.000000    1939.000000   \n",
       "\n",
       "       motor_vehicle_theft  ...      frm_15   points_15  median_hh_income  \\\n",
       "count           164.000000  ...  164.000000  164.000000        164.000000   \n",
       "mean             10.207317  ...    3.254108    0.553209      76257.286585   \n",
       "std              64.098513  ...    0.326532    0.089556      18102.044916   \n",
       "min               0.000000  ...    2.930769    0.450000      45438.000000   \n",
       "25%               0.000000  ...    3.049231    0.475000      61643.000000   \n",
       "50%               0.000000  ...    3.272500    0.492308      74839.000000   \n",
       "75%               0.000000  ...    3.391731    0.576923      87302.250000   \n",
       "max             504.000000  ...    4.000192    0.700000     119731.000000   \n",
       "\n",
       "       median_hh_inc_moe  poverty_count  poverty_count_moe  poverty_rate  \\\n",
       "count         164.000000     164.000000         164.000000    164.000000   \n",
       "mean         3172.719512   44146.487805        4914.469512      1.290244   \n",
       "std          1189.460973   33166.224140        2536.482615      0.449842   \n",
       "min          1241.000000    4793.000000         918.000000      0.700000   \n",
       "25%          2324.000000   17951.250000        3231.500000      0.900000   \n",
       "50%          2986.000000   38007.500000        4593.500000      1.200000   \n",
       "75%          3830.000000   64436.000000        7148.250000      1.425000   \n",
       "max          8348.000000  136161.000000       10428.000000      2.800000   \n",
       "\n",
       "       poverty_rate_moe  county_fips          price  \n",
       "count        164.000000   164.000000     164.000000  \n",
       "mean          10.117073    20.707317  298130.227134  \n",
       "std            4.183676    12.146840   97335.378313  \n",
       "min            3.900000     1.000000  136466.170000  \n",
       "25%            6.675000    11.000000  219140.397500  \n",
       "50%            9.400000    21.000000  304646.500000  \n",
       "75%           13.025000    31.000000  379712.747500  \n",
       "max           20.100000    41.000000  494018.420000  \n",
       "\n",
       "[8 rows x 23 columns]"
      ]
     },
     "execution_count": 5,
     "metadata": {},
     "output_type": "execute_result"
    }
   ],
   "source": [
    "df.describe()"
   ]
  },
  {
   "cell_type": "code",
   "execution_count": 6,
   "id": "later-administrator",
   "metadata": {
    "scrolled": true
   },
   "outputs": [],
   "source": [
    "# df[\"county\"] = df[\"county\"].astype('category')\n",
    "# df[\"county_cat\"] = df[\"county\"].cat.codes\n",
    "# df.head()"
   ]
  },
  {
   "cell_type": "markdown",
   "id": "healthy-tender",
   "metadata": {},
   "source": [
    "# linear regression without scaling"
   ]
  },
  {
   "cell_type": "code",
   "execution_count": 7,
   "id": "taken-monster",
   "metadata": {},
   "outputs": [
    {
     "name": "stdout",
     "output_type": "stream",
     "text": [
      "(164, 22) (164,)\n"
     ]
    }
   ],
   "source": [
    "X = df.drop([\"price\", 'county'], axis=1)\n",
    "y = df[\"price\"]\n",
    "print(X.shape, y.shape)"
   ]
  },
  {
   "cell_type": "code",
   "execution_count": 8,
   "id": "alpha-structure",
   "metadata": {},
   "outputs": [],
   "source": [
    "from sklearn.model_selection import train_test_split\n",
    "\n",
    "X_train, X_test, y_train, y_test = train_test_split(X, y, random_state=1)"
   ]
  },
  {
   "cell_type": "code",
   "execution_count": 9,
   "id": "confirmed-carry",
   "metadata": {},
   "outputs": [],
   "source": [
    "from sklearn.linear_model import LinearRegression\n",
    "lin_reg_model = LinearRegression()"
   ]
  },
  {
   "cell_type": "code",
   "execution_count": 10,
   "id": "informative-patrick",
   "metadata": {},
   "outputs": [
    {
     "name": "stdout",
     "output_type": "stream",
     "text": [
      "LinearRegression()\n"
     ]
    }
   ],
   "source": [
    "lin_reg_model.fit(X, y)\n",
    "print(lin_reg_model)"
   ]
  },
  {
   "cell_type": "code",
   "execution_count": 11,
   "id": "dominican-python",
   "metadata": {},
   "outputs": [
    {
     "name": "stdout",
     "output_type": "stream",
     "text": [
      "Weight coefficients:  [-1.40080975e+04  1.03143594e+04  3.73933571e+04 -5.35872815e+03\n",
      " -1.23360331e+04 -9.38423651e+03 -1.42863892e+03  1.74692316e+03\n",
      "  1.39450376e+03 -4.57006583e+03 -2.72115837e+02  4.74405550e+04\n",
      "  2.81716255e+05 -5.74916121e+04 -4.69115720e+05  6.34177103e+00\n",
      "  2.41645647e+00  4.77806227e+00 -6.83885968e+00  2.44532216e+05\n",
      " -2.12053419e+04 -2.93285272e+02]\n",
      "y-axis intercept:  27865763.076619633\n"
     ]
    }
   ],
   "source": [
    "print('Weight coefficients: ', lin_reg_model.coef_)\n",
    "print('y-axis intercept: ', lin_reg_model.intercept_) "
   ]
  },
  {
   "cell_type": "code",
   "execution_count": 12,
   "id": "pretty-jewelry",
   "metadata": {
    "scrolled": true
   },
   "outputs": [
    {
     "name": "stdout",
     "output_type": "stream",
     "text": [
      "Training Data Score: 0.7281242467339499\n",
      "Testing Data Score: 0.7267303283230573\n"
     ]
    }
   ],
   "source": [
    "print(f\"Training Data Score: {lin_reg_model.score(X_train, y_train)}\")\n",
    "print(f\"Testing Data Score: {lin_reg_model.score(X_test, y_test)}\")"
   ]
  },
  {
   "cell_type": "code",
   "execution_count": 13,
   "id": "parallel-table",
   "metadata": {},
   "outputs": [
    {
     "name": "stdout",
     "output_type": "stream",
     "text": [
      "Predicted Labels: [268574.54380416 129871.16709501 251344.27332443 164422.45740865\n",
      " 352438.5039597 ]\n",
      "Actual Labels: [224566.75, 137949.92, 310472.92, 165169.0, 394941.0]\n"
     ]
    }
   ],
   "source": [
    "predictions = lin_reg_model.predict(X_test)\n",
    "print(f\"Predicted Labels: {predictions[:5]}\")\n",
    "print(f\"Actual Labels: {list(y_test[:5])}\")"
   ]
  },
  {
   "cell_type": "code",
   "execution_count": 14,
   "id": "damaged-production",
   "metadata": {},
   "outputs": [
    {
     "data": {
      "text/plain": [
       "['../Models/NJ_lin_reg.sav']"
      ]
     },
     "execution_count": 14,
     "metadata": {},
     "output_type": "execute_result"
    }
   ],
   "source": [
    "import joblib\n",
    "filename = '../Models/NJ_lin_reg.sav'\n",
    "joblib.dump(lin_reg_model, filename)"
   ]
  },
  {
   "cell_type": "markdown",
   "id": "removable-insider",
   "metadata": {},
   "source": [
    "# linear regression with scaling"
   ]
  },
  {
   "cell_type": "code",
   "execution_count": 15,
   "id": "matched-darkness",
   "metadata": {},
   "outputs": [],
   "source": [
    "from sklearn.preprocessing import StandardScaler\n",
    "\n",
    "# Create a StandardScater model and fit it to the training data\n",
    "\n",
    "X = df.drop([\"price\", 'county'], axis=1)\n",
    "y = df[\"price\"]\n",
    "X_train, X_test, y_train, y_test = train_test_split(X, y, random_state=42)\n",
    "# print(X.shape, y.shape)\n",
    "# YOUR CODE HERE\n",
    "# y_train.values.reshape(-1,1)\n",
    "X_scaler = StandardScaler().fit(X_train)\n",
    "y_scaler = StandardScaler().fit(y_train.values.reshape(-1,1))\n",
    "\n",
    "X_train_scaled = X_scaler.transform(X_train)\n",
    "X_test_scaled = X_scaler.transform(X_test)\n",
    "y_train_scaled = y_scaler.transform(y_train.values.reshape(-1,1))\n",
    "y_test_scaled = y_scaler.transform(y_test.values.reshape(-1,1))"
   ]
  },
  {
   "cell_type": "code",
   "execution_count": 16,
   "id": "vulnerable-georgia",
   "metadata": {},
   "outputs": [
    {
     "data": {
      "image/png": "[encoded data removed]",
      "text/plain": [
       "<Figure size 432x288 with 1 Axes>"
      ]
     },
     "metadata": {
      "needs_background": "light"
     },
     "output_type": "display_data"
    }
   ],
   "source": [
    "model = LinearRegression()\n",
    "model.fit(X_train_scaled, y_train_scaled)\n",
    "plt.scatter(model.predict(X_train_scaled), model.predict(X_train_scaled) - y_train_scaled, c=\"blue\", label=\"Training Data\")\n",
    "plt.scatter(model.predict(X_test_scaled), model.predict(X_test_scaled) - y_test_scaled, c=\"orange\", label=\"Testing Data\")\n",
    "plt.legend()\n",
    "plt.hlines(y=0, xmin=y_test_scaled.min(), xmax=y_test_scaled.max())\n",
    "plt.title(\"Residual Plot\")\n",
    "plt.show()"
   ]
  },
  {
   "cell_type": "code",
   "execution_count": 17,
   "id": "northern-machine",
   "metadata": {},
   "outputs": [
    {
     "name": "stdout",
     "output_type": "stream",
     "text": [
      "MSE: 0.6486380790504543, R2: 0.2972116165039286\n"
     ]
    }
   ],
   "source": [
    "from sklearn.metrics import mean_squared_error\n",
    "# YOUR CODE HERE\n",
    "predictions = model.predict(X_test_scaled)\n",
    "MSE = mean_squared_error(y_test_scaled, predictions)\n",
    "r2 = model.score(X_test_scaled, y_test_scaled)\n",
    "\n",
    "print(f\"MSE: {MSE}, R2: {r2}\")"
   ]
  },
  {
   "cell_type": "code",
   "execution_count": 18,
   "id": "pacific-retail",
   "metadata": {},
   "outputs": [
    {
     "name": "stdout",
     "output_type": "stream",
     "text": [
      "MSE: 0.31775805436490606, R2: 0.2972116165039286\n"
     ]
    }
   ],
   "source": [
    "from sklearn.linear_model import Lasso\n",
    "reg_lasso = Lasso(alpha=.01)\n",
    "reg_lasso.fit(X_train_scaled, y_train_scaled)\n",
    "# YOUR CODE HERE\n",
    "predictions_lasso = reg_lasso.predict(X_test_scaled)\n",
    "MSE = mean_squared_error(y_test_scaled, predictions_lasso)\n",
    "r2 = model.score(X_test_scaled, y_test_scaled)\n",
    "# YOUR CODE HERE\n",
    "\n",
    "print(f\"MSE: {MSE}, R2: {r2}\")"
   ]
  },
  {
   "cell_type": "code",
   "execution_count": 19,
   "id": "acute-housing",
   "metadata": {},
   "outputs": [
    {
     "name": "stdout",
     "output_type": "stream",
     "text": [
      "MSE: 0.6984431782462502, R2: 0.2972116165039286\n"
     ]
    }
   ],
   "source": [
    "from sklearn.linear_model import Ridge\n",
    "reg_ridge = Ridge(alpha=.01)\n",
    "reg_ridge.fit(X_train_scaled, y_train_scaled)\n",
    "# YOUR CODE HERE\n",
    "predictions_ridge = reg_ridge.predict(X_test_scaled)\n",
    "MSE = mean_squared_error(y_test_scaled, predictions_ridge)\n",
    "r2 = model.score(X_test_scaled, y_test_scaled)\n",
    "\n",
    "print(f\"MSE: {MSE}, R2: {r2}\")"
   ]
  },
  {
   "cell_type": "code",
   "execution_count": 20,
   "id": "constitutional-necessity",
   "metadata": {},
   "outputs": [
    {
     "name": "stdout",
     "output_type": "stream",
     "text": [
      "MSE: 0.3176614856126429, R2: 0.2972116165039286\n"
     ]
    }
   ],
   "source": [
    "from sklearn.linear_model import ElasticNet\n",
    "reg_elasticnet = ElasticNet(alpha=.01)\n",
    "reg_elasticnet.fit(X_train_scaled, y_train_scaled)\n",
    "# YOUR CODE HERE\n",
    "predictions_elasticnet = reg_elasticnet.predict(X_test_scaled)\n",
    "MSE = mean_squared_error(y_test_scaled, predictions_elasticnet)\n",
    "r2 = model.score(X_test_scaled, y_test_scaled)\n",
    "# YOUR CODE HERE\n",
    "\n",
    "print(f\"MSE: {MSE}, R2: {r2}\")"
   ]
  },
  {
   "cell_type": "markdown",
   "id": "suffering-portrait",
   "metadata": {},
   "source": [
    "# Observation\n",
    "* It seems like our accuracy drops with scaling the data "
   ]
  }
 ],
 "metadata": {
  "kernelspec": {
   "display_name": "Python [conda env:.conda-PythonAdv] *",
   "language": "python",
   "name": "conda-env-.conda-PythonAdv-py"
  },
  "language_info": {
   "codemirror_mode": {
    "name": "ipython",
    "version": 3
   },
   "file_extension": ".py",
   "mimetype": "text/x-python",
   "name": "python",
   "nbconvert_exporter": "python",
   "pygments_lexer": "ipython3",
   "version": "3.6.13"
  }
 },
 "nbformat": 4,
 "nbformat_minor": 5
}
