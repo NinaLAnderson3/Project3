{
 "cells": [
  {
   "cell_type": "code",
   "execution_count": 1,
   "id": "uniform-instruction",
   "metadata": {},
   "outputs": [],
   "source": [
    "import matplotlib.pyplot as plt\n",
    "import pandas as pd\n",
    "import numpy as np\n",
    "import os"
   ]
  },
  {
   "cell_type": "code",
   "execution_count": 2,
   "id": "eastern-watts",
   "metadata": {
    "scrolled": true
   },
   "outputs": [
    {
     "data": {
      "text/html": [
       "<div>\n",
       "<style scoped>\n",
       "    .dataframe tbody tr th:only-of-type {\n",
       "        vertical-align: middle;\n",
       "    }\n",
       "\n",
       "    .dataframe tbody tr th {\n",
       "        vertical-align: top;\n",
       "    }\n",
       "\n",
       "    .dataframe thead th {\n",
       "        text-align: right;\n",
       "    }\n",
       "</style>\n",
       "<table border=\"1\" class=\"dataframe\">\n",
       "  <thead>\n",
       "    <tr style=\"text-align: right;\">\n",
       "      <th></th>\n",
       "      <th>county</th>\n",
       "      <th>year</th>\n",
       "      <th>violent_crime</th>\n",
       "      <th>murder</th>\n",
       "      <th>rape</th>\n",
       "      <th>robbery</th>\n",
       "      <th>aggravated_assault</th>\n",
       "      <th>property_crime</th>\n",
       "      <th>burglary</th>\n",
       "      <th>larceny_theft</th>\n",
       "      <th>...</th>\n",
       "      <th>frm_15</th>\n",
       "      <th>points_15</th>\n",
       "      <th>median_hh_income</th>\n",
       "      <th>median_hh_inc_moe</th>\n",
       "      <th>poverty_count</th>\n",
       "      <th>poverty_count_moe</th>\n",
       "      <th>poverty_rate</th>\n",
       "      <th>poverty_rate_moe</th>\n",
       "      <th>county_fips</th>\n",
       "      <th>price</th>\n",
       "    </tr>\n",
       "  </thead>\n",
       "  <tbody>\n",
       "    <tr>\n",
       "      <th>0</th>\n",
       "      <td>Atlantic</td>\n",
       "      <td>2019</td>\n",
       "      <td>0</td>\n",
       "      <td>0</td>\n",
       "      <td>0</td>\n",
       "      <td>0</td>\n",
       "      <td>0</td>\n",
       "      <td>0</td>\n",
       "      <td>0</td>\n",
       "      <td>0</td>\n",
       "      <td>...</td>\n",
       "      <td>3.391731</td>\n",
       "      <td>0.475</td>\n",
       "      <td>62678</td>\n",
       "      <td>2822</td>\n",
       "      <td>29057</td>\n",
       "      <td>4251</td>\n",
       "      <td>1.6</td>\n",
       "      <td>11.3</td>\n",
       "      <td>1</td>\n",
       "      <td>196067.42</td>\n",
       "    </tr>\n",
       "    <tr>\n",
       "      <th>1</th>\n",
       "      <td>Bergen</td>\n",
       "      <td>2019</td>\n",
       "      <td>2</td>\n",
       "      <td>0</td>\n",
       "      <td>2</td>\n",
       "      <td>0</td>\n",
       "      <td>0</td>\n",
       "      <td>46</td>\n",
       "      <td>2</td>\n",
       "      <td>44</td>\n",
       "      <td>...</td>\n",
       "      <td>3.391731</td>\n",
       "      <td>0.475</td>\n",
       "      <td>107971</td>\n",
       "      <td>3025</td>\n",
       "      <td>52980</td>\n",
       "      <td>7662</td>\n",
       "      <td>0.8</td>\n",
       "      <td>5.7</td>\n",
       "      <td>3</td>\n",
       "      <td>494018.42</td>\n",
       "    </tr>\n",
       "    <tr>\n",
       "      <th>2</th>\n",
       "      <td>Burlington</td>\n",
       "      <td>2019</td>\n",
       "      <td>0</td>\n",
       "      <td>0</td>\n",
       "      <td>0</td>\n",
       "      <td>0</td>\n",
       "      <td>0</td>\n",
       "      <td>0</td>\n",
       "      <td>0</td>\n",
       "      <td>0</td>\n",
       "      <td>...</td>\n",
       "      <td>3.391731</td>\n",
       "      <td>0.475</td>\n",
       "      <td>88443</td>\n",
       "      <td>3233</td>\n",
       "      <td>24961</td>\n",
       "      <td>4374</td>\n",
       "      <td>1.0</td>\n",
       "      <td>5.7</td>\n",
       "      <td>5</td>\n",
       "      <td>238593.67</td>\n",
       "    </tr>\n",
       "    <tr>\n",
       "      <th>3</th>\n",
       "      <td>Camden</td>\n",
       "      <td>2019</td>\n",
       "      <td>2</td>\n",
       "      <td>0</td>\n",
       "      <td>0</td>\n",
       "      <td>0</td>\n",
       "      <td>2</td>\n",
       "      <td>44</td>\n",
       "      <td>4</td>\n",
       "      <td>38</td>\n",
       "      <td>...</td>\n",
       "      <td>3.391731</td>\n",
       "      <td>0.475</td>\n",
       "      <td>73168</td>\n",
       "      <td>2374</td>\n",
       "      <td>53641</td>\n",
       "      <td>7048</td>\n",
       "      <td>1.4</td>\n",
       "      <td>10.7</td>\n",
       "      <td>7</td>\n",
       "      <td>181980.75</td>\n",
       "    </tr>\n",
       "    <tr>\n",
       "      <th>4</th>\n",
       "      <td>Cape May</td>\n",
       "      <td>2019</td>\n",
       "      <td>0</td>\n",
       "      <td>0</td>\n",
       "      <td>0</td>\n",
       "      <td>0</td>\n",
       "      <td>0</td>\n",
       "      <td>0</td>\n",
       "      <td>0</td>\n",
       "      <td>0</td>\n",
       "      <td>...</td>\n",
       "      <td>3.391731</td>\n",
       "      <td>0.475</td>\n",
       "      <td>66565</td>\n",
       "      <td>4753</td>\n",
       "      <td>8853</td>\n",
       "      <td>1981</td>\n",
       "      <td>2.2</td>\n",
       "      <td>9.8</td>\n",
       "      <td>9</td>\n",
       "      <td>389294.58</td>\n",
       "    </tr>\n",
       "  </tbody>\n",
       "</table>\n",
       "<p>5 rows × 24 columns</p>\n",
       "</div>"
      ],
      "text/plain": [
       "       county  year  violent_crime  murder  rape  robbery  aggravated_assault  \\\n",
       "0    Atlantic  2019              0       0     0        0                   0   \n",
       "1      Bergen  2019              2       0     2        0                   0   \n",
       "2  Burlington  2019              0       0     0        0                   0   \n",
       "3      Camden  2019              2       0     0        0                   2   \n",
       "4    Cape May  2019              0       0     0        0                   0   \n",
       "\n",
       "   property_crime  burglary  larceny_theft  ...    frm_15  points_15  \\\n",
       "0               0         0              0  ...  3.391731      0.475   \n",
       "1              46         2             44  ...  3.391731      0.475   \n",
       "2               0         0              0  ...  3.391731      0.475   \n",
       "3              44         4             38  ...  3.391731      0.475   \n",
       "4               0         0              0  ...  3.391731      0.475   \n",
       "\n",
       "   median_hh_income  median_hh_inc_moe  poverty_count  poverty_count_moe  \\\n",
       "0             62678               2822          29057               4251   \n",
       "1            107971               3025          52980               7662   \n",
       "2             88443               3233          24961               4374   \n",
       "3             73168               2374          53641               7048   \n",
       "4             66565               4753           8853               1981   \n",
       "\n",
       "   poverty_rate  poverty_rate_moe  county_fips      price  \n",
       "0           1.6              11.3            1  196067.42  \n",
       "1           0.8               5.7            3  494018.42  \n",
       "2           1.0               5.7            5  238593.67  \n",
       "3           1.4              10.7            7  181980.75  \n",
       "4           2.2               9.8            9  389294.58  \n",
       "\n",
       "[5 rows x 24 columns]"
      ]
     },
     "execution_count": 2,
     "metadata": {},
     "output_type": "execute_result"
    }
   ],
   "source": [
    "df = pd.read_csv('../Resources/final_data.csv')\n",
    "df.head()"
   ]
  },
  {
   "cell_type": "code",
   "execution_count": 3,
   "id": "immediate-berry",
   "metadata": {},
   "outputs": [],
   "source": [
    "df.dropna(how='any', inplace = True)"
   ]
  },
  {
   "cell_type": "code",
   "execution_count": null,
   "id": "similar-torture",
   "metadata": {},
   "outputs": [],
   "source": [
    "df.dtypes"
   ]
  },
  {
   "cell_type": "code",
   "execution_count": 4,
   "id": "relevant-following",
   "metadata": {},
   "outputs": [
    {
     "data": {
      "text/plain": [
       "['Atlantic',\n",
       " 'Bergen',\n",
       " 'Burlington',\n",
       " 'Camden',\n",
       " 'Cape May',\n",
       " 'Cumberland',\n",
       " 'Essex',\n",
       " 'Gloucester',\n",
       " 'Hudson',\n",
       " 'Hunterdon',\n",
       " 'Mercer',\n",
       " 'Middlesex',\n",
       " 'Monmouth',\n",
       " 'Morris',\n",
       " 'Ocean',\n",
       " 'Passaic',\n",
       " 'Salem',\n",
       " 'Somerset',\n",
       " 'Sussex',\n",
       " 'Union',\n",
       " 'Warren']"
      ]
     },
     "execution_count": 4,
     "metadata": {},
     "output_type": "execute_result"
    }
   ],
   "source": [
    "county_list = df['county'].unique().tolist()\n",
    "county_list"
   ]
  },
  {
   "cell_type": "code",
   "execution_count": 5,
   "id": "accepting-restriction",
   "metadata": {},
   "outputs": [],
   "source": [
    "from sklearn.model_selection import train_test_split\n",
    "from sklearn.linear_model import LinearRegression\n",
    "import joblib"
   ]
  },
  {
   "cell_type": "code",
   "execution_count": null,
   "id": "infinite-register",
   "metadata": {},
   "outputs": [],
   "source": [
    "county_name"
   ]
  },
  {
   "cell_type": "code",
   "execution_count": 6,
   "id": "informal-satin",
   "metadata": {},
   "outputs": [],
   "source": [
    "for i in range(len(county_list)):\n",
    "    county_name = county_list[i]\n",
    "    df_filtered = df[df['county']==county_list[i]]\n",
    "    X = df_filtered.drop([\"price\", 'county', 'county_fips'], axis=1)\n",
    "    y = df_filtered[\"price\"]\n",
    "    X_train, X_test, y_train, y_test = train_test_split(X, y, random_state=1)\n",
    "    lin_reg_model = LinearRegression()\n",
    "    lin_reg_model.fit(X, y)\n",
    "    filename = f'../Models/NJ_lin_reg_{county_name}.sav'\n",
    "    joblib.dump(lin_reg_model, filename)"
   ]
  },
  {
   "cell_type": "code",
   "execution_count": null,
   "id": "accepting-jordan",
   "metadata": {},
   "outputs": [],
   "source": [
    "df = df[df['county']=='Atlantic']\n",
    "df.head()"
   ]
  },
  {
   "cell_type": "code",
   "execution_count": null,
   "id": "wrong-kansas",
   "metadata": {
    "scrolled": true
   },
   "outputs": [],
   "source": [
    "df.describe()"
   ]
  },
  {
   "cell_type": "code",
   "execution_count": null,
   "id": "later-administrator",
   "metadata": {
    "scrolled": true
   },
   "outputs": [],
   "source": [
    "# df[\"county\"] = df[\"county\"].astype('category')\n",
    "# df[\"county_cat\"] = df[\"county\"].cat.codes\n",
    "# df.head()"
   ]
  },
  {
   "cell_type": "markdown",
   "id": "healthy-tender",
   "metadata": {},
   "source": [
    "# linear regression without scaling"
   ]
  },
  {
   "cell_type": "code",
   "execution_count": null,
   "id": "taken-monster",
   "metadata": {},
   "outputs": [],
   "source": [
    "X = df.drop([\"price\", 'county', 'county_fips'], axis=1)\n",
    "y = df[\"price\"]\n",
    "print(X.shape, y.shape)"
   ]
  },
  {
   "cell_type": "code",
   "execution_count": null,
   "id": "alpha-structure",
   "metadata": {},
   "outputs": [],
   "source": [
    "from sklearn.model_selection import train_test_split\n",
    "\n",
    "X_train, X_test, y_train, y_test = train_test_split(X, y, random_state=1)"
   ]
  },
  {
   "cell_type": "code",
   "execution_count": null,
   "id": "confirmed-carry",
   "metadata": {},
   "outputs": [],
   "source": [
    "from sklearn.linear_model import LinearRegression\n",
    "lin_reg_model = LinearRegression()"
   ]
  },
  {
   "cell_type": "code",
   "execution_count": null,
   "id": "informative-patrick",
   "metadata": {},
   "outputs": [],
   "source": [
    "lin_reg_model.fit(X, y)\n",
    "print(lin_reg_model)"
   ]
  },
  {
   "cell_type": "code",
   "execution_count": null,
   "id": "dominican-python",
   "metadata": {},
   "outputs": [],
   "source": [
    "print('Weight coefficients: ', lin_reg_model.coef_)\n",
    "print('y-axis intercept: ', lin_reg_model.intercept_) "
   ]
  },
  {
   "cell_type": "code",
   "execution_count": null,
   "id": "wanted-alpha",
   "metadata": {},
   "outputs": [],
   "source": [
    "X.columns"
   ]
  },
  {
   "cell_type": "code",
   "execution_count": null,
   "id": "pretty-jewelry",
   "metadata": {
    "scrolled": true
   },
   "outputs": [],
   "source": [
    "print(f\"Training Data Score: {lin_reg_model.score(X_train, y_train)}\")\n",
    "print(f\"Testing Data Score: {lin_reg_model.score(X_test, y_test)}\")"
   ]
  },
  {
   "cell_type": "code",
   "execution_count": null,
   "id": "parallel-table",
   "metadata": {},
   "outputs": [],
   "source": [
    "predictions = lin_reg_model.predict(X_test)\n",
    "print(f\"Predicted Labels: {predictions[:5]}\")\n",
    "print(f\"Actual Labels: {list(y_test[:5])}\")"
   ]
  },
  {
   "cell_type": "code",
   "execution_count": null,
   "id": "norman-motion",
   "metadata": {},
   "outputs": [],
   "source": [
    "best_array = pd.DataFrame({'year':2021,'violent_crime':df['violent_crime'].min(), 'murder':df['murder'].min(), 'rape':df['rape'].min(),\n",
    "            'robbery':df['robbery'].min(), 'aggravated_assault':df['aggravated_assault'].min(), 'property_crime': df['property_crime'].min(),\n",
    "            'burglary':df['burglary'].min(), 'larceny_theft':df['larceny_theft'].min(), 'motor_vehicle_theft':df['motor_vehicle_theft'].min(),\n",
    "            'arson':df['arson'].min(), 'frm_30':df['frm_30'].min(), 'points_30': df['points_30'].min(),\n",
    "           'frm_15':df['frm_15'].min(), 'points_15':df['points_15'].min(), 'median_hh_income': df['median_hh_income'].max(),\n",
    "            'median_hh_inc_moe': df['median_hh_inc_moe'].min(),               \n",
    "           'poverty_count': df['poverty_count'].min(),'poverty_count_moe': df['poverty_count_moe'].min(), 'poverty_rate':df['poverty_rate'].min(),\n",
    "            'poverty_rate_moe':df['poverty_rate_moe'].min()},[0])"
   ]
  },
  {
   "cell_type": "code",
   "execution_count": null,
   "id": "handed-surgery",
   "metadata": {},
   "outputs": [],
   "source": [
    "b_predictions = lin_reg_model.predict(best_array)\n",
    "predictions"
   ]
  },
  {
   "cell_type": "code",
   "execution_count": null,
   "id": "supported-friday",
   "metadata": {},
   "outputs": [],
   "source": []
  },
  {
   "cell_type": "code",
   "execution_count": null,
   "id": "martial-consolidation",
   "metadata": {},
   "outputs": [],
   "source": []
  },
  {
   "cell_type": "code",
   "execution_count": null,
   "id": "damaged-production",
   "metadata": {},
   "outputs": [],
   "source": [
    "import joblib\n",
    "filename = '../Models/NJ_lin_reg_Atlantic.sav'\n",
    "joblib.dump(lin_reg_model, filename)"
   ]
  },
  {
   "cell_type": "markdown",
   "id": "removable-insider",
   "metadata": {},
   "source": [
    "# linear regression with scaling"
   ]
  },
  {
   "cell_type": "code",
   "execution_count": null,
   "id": "matched-darkness",
   "metadata": {},
   "outputs": [],
   "source": [
    "from sklearn.preprocessing import StandardScaler\n",
    "\n",
    "# Create a StandardScater model and fit it to the training data\n",
    "\n",
    "X = df.drop([\"price\", 'county'], axis=1)\n",
    "y = df[\"price\"]\n",
    "X_train, X_test, y_train, y_test = train_test_split(X, y, random_state=42)\n",
    "# print(X.shape, y.shape)\n",
    "# YOUR CODE HERE\n",
    "# y_train.values.reshape(-1,1)\n",
    "X_scaler = StandardScaler().fit(X_train)\n",
    "y_scaler = StandardScaler().fit(y_train.values.reshape(-1,1))\n",
    "\n",
    "X_train_scaled = X_scaler.transform(X_train)\n",
    "X_test_scaled = X_scaler.transform(X_test)\n",
    "y_train_scaled = y_scaler.transform(y_train.values.reshape(-1,1))\n",
    "y_test_scaled = y_scaler.transform(y_test.values.reshape(-1,1))"
   ]
  },
  {
   "cell_type": "code",
   "execution_count": null,
   "id": "vulnerable-georgia",
   "metadata": {},
   "outputs": [],
   "source": [
    "model = LinearRegression()\n",
    "model.fit(X_train_scaled, y_train_scaled)\n",
    "plt.scatter(model.predict(X_train_scaled), model.predict(X_train_scaled) - y_train_scaled, c=\"blue\", label=\"Training Data\")\n",
    "plt.scatter(model.predict(X_test_scaled), model.predict(X_test_scaled) - y_test_scaled, c=\"orange\", label=\"Testing Data\")\n",
    "plt.legend()\n",
    "plt.hlines(y=0, xmin=y_test_scaled.min(), xmax=y_test_scaled.max())\n",
    "plt.title(\"Residual Plot\")\n",
    "plt.show()"
   ]
  },
  {
   "cell_type": "code",
   "execution_count": null,
   "id": "northern-machine",
   "metadata": {},
   "outputs": [],
   "source": [
    "from sklearn.metrics import mean_squared_error\n",
    "# YOUR CODE HERE\n",
    "predictions = model.predict(X_test_scaled)\n",
    "MSE = mean_squared_error(y_test_scaled, predictions)\n",
    "r2 = model.score(X_test_scaled, y_test_scaled)\n",
    "\n",
    "print(f\"MSE: {MSE}, R2: {r2}\")"
   ]
  },
  {
   "cell_type": "code",
   "execution_count": null,
   "id": "pacific-retail",
   "metadata": {},
   "outputs": [],
   "source": [
    "from sklearn.linear_model import Lasso\n",
    "reg_lasso = Lasso(alpha=.01)\n",
    "reg_lasso.fit(X_train_scaled, y_train_scaled)\n",
    "# YOUR CODE HERE\n",
    "predictions_lasso = reg_lasso.predict(X_test_scaled)\n",
    "MSE = mean_squared_error(y_test_scaled, predictions_lasso)\n",
    "r2 = model.score(X_test_scaled, y_test_scaled)\n",
    "# YOUR CODE HERE\n",
    "\n",
    "print(f\"MSE: {MSE}, R2: {r2}\")"
   ]
  },
  {
   "cell_type": "code",
   "execution_count": null,
   "id": "acute-housing",
   "metadata": {},
   "outputs": [],
   "source": [
    "from sklearn.linear_model import Ridge\n",
    "reg_ridge = Ridge(alpha=.01)\n",
    "reg_ridge.fit(X_train_scaled, y_train_scaled)\n",
    "# YOUR CODE HERE\n",
    "predictions_ridge = reg_ridge.predict(X_test_scaled)\n",
    "MSE = mean_squared_error(y_test_scaled, predictions_ridge)\n",
    "r2 = model.score(X_test_scaled, y_test_scaled)\n",
    "\n",
    "print(f\"MSE: {MSE}, R2: {r2}\")"
   ]
  },
  {
   "cell_type": "code",
   "execution_count": null,
   "id": "constitutional-necessity",
   "metadata": {},
   "outputs": [],
   "source": [
    "from sklearn.linear_model import ElasticNet\n",
    "reg_elasticnet = ElasticNet(alpha=.01)\n",
    "reg_elasticnet.fit(X_train_scaled, y_train_scaled)\n",
    "# YOUR CODE HERE\n",
    "predictions_elasticnet = reg_elasticnet.predict(X_test_scaled)\n",
    "MSE = mean_squared_error(y_test_scaled, predictions_elasticnet)\n",
    "r2 = model.score(X_test_scaled, y_test_scaled)\n",
    "# YOUR CODE HERE\n",
    "\n",
    "print(f\"MSE: {MSE}, R2: {r2}\")"
   ]
  },
  {
   "cell_type": "markdown",
   "id": "suffering-portrait",
   "metadata": {},
   "source": [
    "# Observation\n",
    "* It seems like our accuracy drops with scaling the data "
   ]
  }
 ],
 "metadata": {
  "kernelspec": {
   "display_name": "Python [conda env:.conda-PythonAdv] *",
   "language": "python",
   "name": "conda-env-.conda-PythonAdv-py"
  },
  "language_info": {
   "codemirror_mode": {
    "name": "ipython",
    "version": 3
   },
   "file_extension": ".py",
   "mimetype": "text/x-python",
   "name": "python",
   "nbconvert_exporter": "python",
   "pygments_lexer": "ipython3",
   "version": "3.6.13"
  }
 },
 "nbformat": 4,
 "nbformat_minor": 5
}
