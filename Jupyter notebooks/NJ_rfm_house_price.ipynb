{
 "cells": [
  {
   "cell_type": "code",
   "execution_count": 1,
   "id": "danish-century",
   "metadata": {},
   "outputs": [],
   "source": [
    "# Dependencies\n",
    "import pandas as pd\n",
    "import numpy as np\n",
    "from sklearn.model_selection import train_test_split, GridSearchCV\n",
    "from sklearn.preprocessing import MinMaxScaler\n",
    "from sklearn.ensemble import RandomForestClassifier,RandomForestRegressor\n",
    "from sklearn.metrics import classification_report\n",
    "import joblib\n",
    "from sklearn.preprocessing import LabelEncoder\n",
    "from tensorflow.keras.utils import to_categorical"
   ]
  },
  {
   "cell_type": "code",
   "execution_count": 2,
   "id": "fossil-blast",
   "metadata": {},
   "outputs": [
    {
     "data": {
      "text/html": [
       "<div>\n",
       "<style scoped>\n",
       "    .dataframe tbody tr th:only-of-type {\n",
       "        vertical-align: middle;\n",
       "    }\n",
       "\n",
       "    .dataframe tbody tr th {\n",
       "        vertical-align: top;\n",
       "    }\n",
       "\n",
       "    .dataframe thead th {\n",
       "        text-align: right;\n",
       "    }\n",
       "</style>\n",
       "<table border=\"1\" class=\"dataframe\">\n",
       "  <thead>\n",
       "    <tr style=\"text-align: right;\">\n",
       "      <th></th>\n",
       "      <th>county</th>\n",
       "      <th>year</th>\n",
       "      <th>violent_crime</th>\n",
       "      <th>murder</th>\n",
       "      <th>rape</th>\n",
       "      <th>robbery</th>\n",
       "      <th>aggravated_assault</th>\n",
       "      <th>property_crime</th>\n",
       "      <th>burglary</th>\n",
       "      <th>larceny_theft</th>\n",
       "      <th>...</th>\n",
       "      <th>frm_15</th>\n",
       "      <th>points_15</th>\n",
       "      <th>median_hh_income</th>\n",
       "      <th>median_hh_inc_moe</th>\n",
       "      <th>poverty_count</th>\n",
       "      <th>poverty_count_moe</th>\n",
       "      <th>poverty_rate</th>\n",
       "      <th>poverty_rate_moe</th>\n",
       "      <th>county_fips</th>\n",
       "      <th>price</th>\n",
       "    </tr>\n",
       "  </thead>\n",
       "  <tbody>\n",
       "    <tr>\n",
       "      <th>0</th>\n",
       "      <td>Atlantic</td>\n",
       "      <td>2019</td>\n",
       "      <td>0</td>\n",
       "      <td>0</td>\n",
       "      <td>0</td>\n",
       "      <td>0</td>\n",
       "      <td>0</td>\n",
       "      <td>0</td>\n",
       "      <td>0</td>\n",
       "      <td>0</td>\n",
       "      <td>...</td>\n",
       "      <td>3.391731</td>\n",
       "      <td>0.475</td>\n",
       "      <td>62678</td>\n",
       "      <td>2822</td>\n",
       "      <td>29057</td>\n",
       "      <td>4251</td>\n",
       "      <td>1.6</td>\n",
       "      <td>11.3</td>\n",
       "      <td>1</td>\n",
       "      <td>196067.42</td>\n",
       "    </tr>\n",
       "    <tr>\n",
       "      <th>1</th>\n",
       "      <td>Bergen</td>\n",
       "      <td>2019</td>\n",
       "      <td>2</td>\n",
       "      <td>0</td>\n",
       "      <td>2</td>\n",
       "      <td>0</td>\n",
       "      <td>0</td>\n",
       "      <td>46</td>\n",
       "      <td>2</td>\n",
       "      <td>44</td>\n",
       "      <td>...</td>\n",
       "      <td>3.391731</td>\n",
       "      <td>0.475</td>\n",
       "      <td>107971</td>\n",
       "      <td>3025</td>\n",
       "      <td>52980</td>\n",
       "      <td>7662</td>\n",
       "      <td>0.8</td>\n",
       "      <td>5.7</td>\n",
       "      <td>3</td>\n",
       "      <td>494018.42</td>\n",
       "    </tr>\n",
       "    <tr>\n",
       "      <th>2</th>\n",
       "      <td>Burlington</td>\n",
       "      <td>2019</td>\n",
       "      <td>0</td>\n",
       "      <td>0</td>\n",
       "      <td>0</td>\n",
       "      <td>0</td>\n",
       "      <td>0</td>\n",
       "      <td>0</td>\n",
       "      <td>0</td>\n",
       "      <td>0</td>\n",
       "      <td>...</td>\n",
       "      <td>3.391731</td>\n",
       "      <td>0.475</td>\n",
       "      <td>88443</td>\n",
       "      <td>3233</td>\n",
       "      <td>24961</td>\n",
       "      <td>4374</td>\n",
       "      <td>1.0</td>\n",
       "      <td>5.7</td>\n",
       "      <td>5</td>\n",
       "      <td>238593.67</td>\n",
       "    </tr>\n",
       "    <tr>\n",
       "      <th>3</th>\n",
       "      <td>Camden</td>\n",
       "      <td>2019</td>\n",
       "      <td>2</td>\n",
       "      <td>0</td>\n",
       "      <td>0</td>\n",
       "      <td>0</td>\n",
       "      <td>2</td>\n",
       "      <td>44</td>\n",
       "      <td>4</td>\n",
       "      <td>38</td>\n",
       "      <td>...</td>\n",
       "      <td>3.391731</td>\n",
       "      <td>0.475</td>\n",
       "      <td>73168</td>\n",
       "      <td>2374</td>\n",
       "      <td>53641</td>\n",
       "      <td>7048</td>\n",
       "      <td>1.4</td>\n",
       "      <td>10.7</td>\n",
       "      <td>7</td>\n",
       "      <td>181980.75</td>\n",
       "    </tr>\n",
       "    <tr>\n",
       "      <th>4</th>\n",
       "      <td>Cape May</td>\n",
       "      <td>2019</td>\n",
       "      <td>0</td>\n",
       "      <td>0</td>\n",
       "      <td>0</td>\n",
       "      <td>0</td>\n",
       "      <td>0</td>\n",
       "      <td>0</td>\n",
       "      <td>0</td>\n",
       "      <td>0</td>\n",
       "      <td>...</td>\n",
       "      <td>3.391731</td>\n",
       "      <td>0.475</td>\n",
       "      <td>66565</td>\n",
       "      <td>4753</td>\n",
       "      <td>8853</td>\n",
       "      <td>1981</td>\n",
       "      <td>2.2</td>\n",
       "      <td>9.8</td>\n",
       "      <td>9</td>\n",
       "      <td>389294.58</td>\n",
       "    </tr>\n",
       "  </tbody>\n",
       "</table>\n",
       "<p>5 rows × 24 columns</p>\n",
       "</div>"
      ],
      "text/plain": [
       "       county  year  violent_crime  murder  rape  robbery  aggravated_assault  \\\n",
       "0    Atlantic  2019              0       0     0        0                   0   \n",
       "1      Bergen  2019              2       0     2        0                   0   \n",
       "2  Burlington  2019              0       0     0        0                   0   \n",
       "3      Camden  2019              2       0     0        0                   2   \n",
       "4    Cape May  2019              0       0     0        0                   0   \n",
       "\n",
       "   property_crime  burglary  larceny_theft  ...    frm_15  points_15  \\\n",
       "0               0         0              0  ...  3.391731      0.475   \n",
       "1              46         2             44  ...  3.391731      0.475   \n",
       "2               0         0              0  ...  3.391731      0.475   \n",
       "3              44         4             38  ...  3.391731      0.475   \n",
       "4               0         0              0  ...  3.391731      0.475   \n",
       "\n",
       "   median_hh_income  median_hh_inc_moe  poverty_count  poverty_count_moe  \\\n",
       "0             62678               2822          29057               4251   \n",
       "1            107971               3025          52980               7662   \n",
       "2             88443               3233          24961               4374   \n",
       "3             73168               2374          53641               7048   \n",
       "4             66565               4753           8853               1981   \n",
       "\n",
       "   poverty_rate  poverty_rate_moe  county_fips      price  \n",
       "0           1.6              11.3            1  196067.42  \n",
       "1           0.8               5.7            3  494018.42  \n",
       "2           1.0               5.7            5  238593.67  \n",
       "3           1.4              10.7            7  181980.75  \n",
       "4           2.2               9.8            9  389294.58  \n",
       "\n",
       "[5 rows x 24 columns]"
      ]
     },
     "execution_count": 2,
     "metadata": {},
     "output_type": "execute_result"
    }
   ],
   "source": [
    "#  import csv\n",
    "df = pd.read_csv('../Resources/final_data.csv')\n",
    "df.head()"
   ]
  },
  {
   "cell_type": "code",
   "execution_count": 3,
   "id": "elementary-victory",
   "metadata": {},
   "outputs": [],
   "source": [
    "#  drop nulls\n",
    "df.dropna(how='any', inplace = True)"
   ]
  },
  {
   "cell_type": "code",
   "execution_count": 4,
   "id": "varying-skiing",
   "metadata": {},
   "outputs": [],
   "source": [
    "le = LabelEncoder()\n",
    "df['county'] = le.fit_transform(df['county'])"
   ]
  },
  {
   "cell_type": "code",
   "execution_count": 5,
   "id": "neural-radical",
   "metadata": {},
   "outputs": [],
   "source": [
    "# df= pd.get_dummies(df)\n",
    "# df.head()"
   ]
  },
  {
   "cell_type": "code",
   "execution_count": 6,
   "id": "derived-reset",
   "metadata": {},
   "outputs": [
    {
     "data": {
      "text/plain": [
       "Index(['county', 'year', 'violent_crime', 'murder', 'rape', 'robbery',\n",
       "       'aggravated_assault', 'property_crime', 'burglary', 'larceny_theft',\n",
       "       'motor_vehicle_theft', 'arson', 'frm_30', 'points_30', 'frm_15',\n",
       "       'points_15', 'median_hh_income', 'median_hh_inc_moe', 'poverty_count',\n",
       "       'poverty_count_moe', 'poverty_rate', 'poverty_rate_moe', 'county_fips',\n",
       "       'price'],\n",
       "      dtype='object')"
      ]
     },
     "execution_count": 6,
     "metadata": {},
     "output_type": "execute_result"
    }
   ],
   "source": [
    "df.columns"
   ]
  },
  {
   "cell_type": "code",
   "execution_count": 7,
   "id": "floating-lexington",
   "metadata": {},
   "outputs": [
    {
     "name": "stdout",
     "output_type": "stream",
     "text": [
      "(164, 22) (164,)\n"
     ]
    }
   ],
   "source": [
    "X = df.drop([\"price\", 'county_fips'], axis=1)\n",
    "y = df[\"price\"]\n",
    "print(X.shape, y.shape)"
   ]
  },
  {
   "cell_type": "code",
   "execution_count": 8,
   "id": "ordered-texas",
   "metadata": {},
   "outputs": [],
   "source": [
    "# Split data into training and testing groups and scale data \n",
    "X_train, X_test, y_train, y_test = train_test_split(X, y, random_state=1)"
   ]
  },
  {
   "cell_type": "code",
   "execution_count": 9,
   "id": "regular-surge",
   "metadata": {},
   "outputs": [
    {
     "data": {
      "text/plain": [
       "Index(['county', 'year', 'violent_crime', 'murder', 'rape', 'robbery',\n",
       "       'aggravated_assault', 'property_crime', 'burglary', 'larceny_theft',\n",
       "       'motor_vehicle_theft', 'arson', 'frm_30', 'points_30', 'frm_15',\n",
       "       'points_15', 'median_hh_income', 'median_hh_inc_moe', 'poverty_count',\n",
       "       'poverty_count_moe', 'poverty_rate', 'poverty_rate_moe'],\n",
       "      dtype='object')"
      ]
     },
     "execution_count": 9,
     "metadata": {},
     "output_type": "execute_result"
    }
   ],
   "source": [
    "X_train.columns"
   ]
  },
  {
   "cell_type": "code",
   "execution_count": 10,
   "id": "accessible-writing",
   "metadata": {
    "scrolled": true
   },
   "outputs": [
    {
     "data": {
      "text/plain": [
       "RandomForestRegressor(n_estimators=200)"
      ]
     },
     "execution_count": 10,
     "metadata": {},
     "output_type": "execute_result"
    }
   ],
   "source": [
    "# Fit the data into model\n",
    "rfm = RandomForestRegressor(n_estimators=200)\n",
    "rfm.fit(X_train, y_train)"
   ]
  },
  {
   "cell_type": "code",
   "execution_count": 11,
   "id": "coordinated-murder",
   "metadata": {},
   "outputs": [
    {
     "data": {
      "text/plain": [
       "[(0.3064266894657471, 'median_hh_income'),\n",
       " (0.23122684538580748, 'poverty_rate'),\n",
       " (0.18072407602715412, 'poverty_count_moe'),\n",
       " (0.09201262395498105, 'poverty_count'),\n",
       " (0.0821428074756532, 'county'),\n",
       " (0.05068823363251795, 'poverty_rate_moe'),\n",
       " (0.013887271690195428, 'median_hh_inc_moe'),\n",
       " (0.010340646429595606, 'year'),\n",
       " (0.006059289446165756, 'points_15'),\n",
       " (0.004407240975340744, 'points_30'),\n",
       " (0.0037265937672828495, 'violent_crime'),\n",
       " (0.002888441190314431, 'larceny_theft'),\n",
       " (0.0023929574072755356, 'property_crime'),\n",
       " (0.002224497228122884, 'frm_30'),\n",
       " (0.002211526014624833, 'motor_vehicle_theft'),\n",
       " (0.0021827513209132857, 'frm_15'),\n",
       " (0.0017262624946621354, 'burglary'),\n",
       " (0.0014261669753228062, 'aggravated_assault'),\n",
       " (0.00131663550759126, 'rape'),\n",
       " (0.0009730967504049081, 'murder'),\n",
       " (0.0007940841840535005, 'robbery'),\n",
       " (0.0002212626762732266, 'arson')]"
      ]
     },
     "execution_count": 11,
     "metadata": {},
     "output_type": "execute_result"
    }
   ],
   "source": [
    "sorted(zip(rfm.feature_importances_, X.columns), reverse=True)"
   ]
  },
  {
   "cell_type": "code",
   "execution_count": 12,
   "id": "featured-stockholm",
   "metadata": {},
   "outputs": [
    {
     "name": "stdout",
     "output_type": "stream",
     "text": [
      "Training Data Score: 0.9703931467186633\n",
      "Testing Data Score: 0.8264450879539609\n"
     ]
    }
   ],
   "source": [
    "predictions = rfm.predict(X_test)\n",
    "base_train_accuracy = round(rfm.score(X_train, y_train)*100,3)\n",
    "base_test_accuracy = round(rfm.score(X_test, y_test)*100,3)\n",
    "print(f\"Training Data Score: {rfm.score(X_train, y_train)}\")\n",
    "print(f\"Testing Data Score: {rfm.score(X_test, y_test)}\")"
   ]
  },
  {
   "cell_type": "code",
   "execution_count": null,
   "id": "homeless-symphony",
   "metadata": {},
   "outputs": [],
   "source": [
    "from sklearn.metrics import mean_squared_error as MSE"
   ]
  },
  {
   "cell_type": "code",
   "execution_count": null,
   "id": "dress-terror",
   "metadata": {},
   "outputs": [],
   "source": [
    "MSE_score = MSE(y_test,predictions)\n",
    "print(\"Mean Squared Error\",MSE_score.mean())"
   ]
  },
  {
   "cell_type": "markdown",
   "id": "portuguese-issue",
   "metadata": {},
   "source": [
    "# Hyperparameter Tuning"
   ]
  },
  {
   "cell_type": "code",
   "execution_count": null,
   "id": "social-communist",
   "metadata": {},
   "outputs": [],
   "source": [
    "# Get randomforest params\n",
    "rfm.get_params()"
   ]
  },
  {
   "cell_type": "code",
   "execution_count": null,
   "id": "better-fleece",
   "metadata": {},
   "outputs": [],
   "source": [
    "# Create the GridSearchCV model\n",
    "param_grid = {\n",
    "    'n_estimators': [200, 100, 150],\n",
    "    'max_features': ['auto', 'sqrt', 'log2'],\n",
    "    'criterion': ['mse', 'mae'],\n",
    "    'max_depth': [None, 5, 10]\n",
    "}\n",
    "grid = GridSearchCV(rfm, param_grid, cv=5, verbose=0)"
   ]
  },
  {
   "cell_type": "code",
   "execution_count": null,
   "id": "digital-needle",
   "metadata": {},
   "outputs": [],
   "source": [
    "# Train the model with GridSearch\n",
    "grid.fit(X_train, y_train)"
   ]
  },
  {
   "cell_type": "code",
   "execution_count": null,
   "id": "infectious-action",
   "metadata": {},
   "outputs": [],
   "source": [
    "print(grid.best_params_)\n",
    "print(grid.best_score_)"
   ]
  },
  {
   "cell_type": "code",
   "execution_count": null,
   "id": "present-meeting",
   "metadata": {},
   "outputs": [],
   "source": [
    "rfm = RandomForestRegressor(n_estimators=200,criterion= 'mae', max_features= 'auto' )\n",
    "rfm.fit(X_train, y_train)"
   ]
  },
  {
   "cell_type": "code",
   "execution_count": null,
   "id": "prospective-potato",
   "metadata": {},
   "outputs": [],
   "source": [
    "predictions = rfm.predict(X_test)\n",
    "tuned_train_accuracy = round(rfm.score(X_train, y_train)*100,3)\n",
    "tuned_test_accuracy = round(rfm.score(X_test, y_test)*100,3)\n",
    "print(f\"Training Data Score: {rfm.score(X_train, y_train)}\")\n",
    "print(f\"Testing Data Score: {rfm.score(X_test, y_test)}\")"
   ]
  },
  {
   "cell_type": "code",
   "execution_count": null,
   "id": "alleged-charity",
   "metadata": {},
   "outputs": [],
   "source": [
    "MSE_score = MSE(y_test,predictions)\n",
    "print(\"Mean Squared Error\",MSE_score.mean())"
   ]
  },
  {
   "cell_type": "code",
   "execution_count": null,
   "id": "mechanical-recipient",
   "metadata": {},
   "outputs": [],
   "source": [
    "#  save the model\n",
    "filename = '../Models/NJ_rfm_house_price.sav'\n",
    "joblib.dump(grid, filename)"
   ]
  },
  {
   "cell_type": "code",
   "execution_count": null,
   "id": "interested-carolina",
   "metadata": {},
   "outputs": [],
   "source": [
    "predictions = rfm.predict(X_test)\n",
    "print(f\"Predicted Labels: {predictions[:5]}\")\n",
    "print(f\"Actual Labels: {list(y_test[:5])}\")"
   ]
  },
  {
   "cell_type": "markdown",
   "id": "younger-fruit",
   "metadata": {},
   "source": [
    "# Model evaluation"
   ]
  },
  {
   "cell_type": "code",
   "execution_count": null,
   "id": "internal-pottery",
   "metadata": {},
   "outputs": [],
   "source": [
    "evaluations = {'': ['Base Train Model', 'Base Test Model', 'Tuned Train Model', 'Tuned Test Model'],\n",
    "               'RF Accuracy': [f\"{base_train_accuracy}%\", f\"{base_test_accuracy}%\", f\"{tuned_train_accuracy}%\", f\"{tuned_test_accuracy}%\"]}\n",
    "\n",
    "evaluations_df = pd.DataFrame(evaluations)\n",
    "evaluations_df = evaluations_df.set_index('')\n",
    "\n",
    "evaluations_df.to_csv('../Resources/RFM_eval_house_price.csv')\n",
    "evaluations_df"
   ]
  }
 ],
 "metadata": {
  "kernelspec": {
   "display_name": "Python [conda env:.conda-PythonAdv] *",
   "language": "python",
   "name": "conda-env-.conda-PythonAdv-py"
  },
  "language_info": {
   "codemirror_mode": {
    "name": "ipython",
    "version": 3
   },
   "file_extension": ".py",
   "mimetype": "text/x-python",
   "name": "python",
   "nbconvert_exporter": "python",
   "pygments_lexer": "ipython3",
   "version": "3.6.13"
  }
 },
 "nbformat": 4,
 "nbformat_minor": 5
}
