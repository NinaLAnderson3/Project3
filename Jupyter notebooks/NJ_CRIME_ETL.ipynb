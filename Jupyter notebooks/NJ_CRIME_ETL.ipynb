{
 "cells": [
  {
   "cell_type": "code",
   "execution_count": 1,
   "metadata": {},
   "outputs": [],
   "source": [
    "#dependencies and setup\n",
    "import pandas as pd\n",
    "import os\n",
    "from openpyxl import Workbook\n",
    "import numpy as np\n",
    "import requests\n",
    "import json\n",
    "import re\n",
    "from pprint import pprint\n",
    "from bs4 import BeautifulSoup\n",
    "from splinter import Browser\n",
    "from webdriver_manager.chrome import ChromeDriverManager\n",
    "import time"
   ]
  },
  {
   "cell_type": "code",
   "execution_count": 2,
   "metadata": {},
   "outputs": [],
   "source": [
    "# SQLite dependencies\n",
    "import sqlite3\n",
    "from sqlalchemy import create_engine\n",
    "from sqlalchemy import Column, Integer, String, Float"
   ]
  },
  {
   "cell_type": "markdown",
   "metadata": {},
   "source": [
    "# Extraction"
   ]
  },
  {
   "cell_type": "markdown",
   "metadata": {},
   "source": [
    "## School performance score"
   ]
  },
  {
   "cell_type": "code",
   "execution_count": null,
   "metadata": {},
   "outputs": [],
   "source": [
    "# create a browser instance using splinter\n",
    "executable_path = {'executable_path': ChromeDriverManager().install()}\n",
    "browser = Browser('chrome', **executable_path, headless=False)\n",
    "time.sleep(1)"
   ]
  },
  {
   "cell_type": "code",
   "execution_count": null,
   "metadata": {},
   "outputs": [],
   "source": [
    "# visit the NJ schools url\n",
    "nj_school_rate_URL = 'https://rc.doe.state.nj.us/ReportsDatabase.aspx'\n",
    "browser.visit(nj_school_rate_URL)\n",
    "time.sleep(1)\n",
    "\n",
    "# create HTML object\n",
    "html = browser.html\n",
    "\n",
    "# parse HTML with BeautifulSoup\n",
    "soup = BeautifulSoup(html, 'html.parser')"
   ]
  },
  {
   "cell_type": "code",
   "execution_count": null,
   "metadata": {},
   "outputs": [],
   "source": [
    "# access html elements to get the link for the table data\n",
    "div = soup.find(id= 'ContentPlaceHolder1_LatestDataFilesPanel')\n",
    "download_file_link_partial = div.find('a', href = True)['href']\n",
    "download_file_link_partial"
   ]
  },
  {
   "cell_type": "code",
   "execution_count": null,
   "metadata": {},
   "outputs": [],
   "source": [
    "# creating the full url for the latest file\n",
    "base_url = \"https://rc.doe.state.nj.us/\"\n",
    "download_file_link_partial = 'ReportsDatabase/PerformanceReports.xlsx'\n",
    "download_file_link = base_url + download_file_link_partial\n",
    "download_file_link"
   ]
  },
  {
   "cell_type": "code",
   "execution_count": null,
   "metadata": {},
   "outputs": [],
   "source": [
    "#  define data types for a couple of columns\n",
    "info_dtype_dic= {'COUNTY_CODE' : str, 'DISTRICT_CODE':str, 'SCHOOL_CODE':str}"
   ]
  },
  {
   "cell_type": "code",
   "execution_count": null,
   "metadata": {},
   "outputs": [],
   "source": [
    "#  import school metadata\n",
    "school_info = pd.read_excel(download_file_link,engine='openpyxl',sheet_name=\"Header and Contact\", dtype = info_dtype_dic)\n",
    "school_info = school_info[[\"COUNTY_CODE\", \"COUNTY_NAME\", \"DISTRICT_CODE\", \"DISTRICT_NAME\", \"SCHOOL_CODE\", \"SCHOOL_NAME\", \"GRADESPAN\"]]\n",
    "school_info.columns= school_info.columns.str.lower()\n",
    "school_info['county_name'] = school_info['county_name'].str.upper()\n",
    "school_info.head()"
   ]
  },
  {
   "cell_type": "code",
   "execution_count": null,
   "metadata": {},
   "outputs": [],
   "source": [
    "#  define data types for a couple of columns\n",
    "growth_dtype_dic= {'CountyCode' : str, 'DistrictCode':str, 'SchoolCode':str}"
   ]
  },
  {
   "cell_type": "code",
   "execution_count": null,
   "metadata": {
    "scrolled": true
   },
   "outputs": [],
   "source": [
    "#  import school student growth data\n",
    "school_growth_src = pd.read_excel(download_file_link,engine='openpyxl',sheet_name=\"StudentGrowth\", dtype = growth_dtype_dic)\n",
    "school_growth_src.head()"
   ]
  },
  {
   "cell_type": "code",
   "execution_count": null,
   "metadata": {},
   "outputs": [],
   "source": [
    "#  fixing data types for numeric columns\n",
    "school_growth_src['SchoolMedian'] = school_growth_src['SchoolMedian'].apply(pd.to_numeric, errors='coerce')\n",
    "school_growth_src['DistrictMedian'] = school_growth_src['DistrictMedian'].apply(pd.to_numeric, errors='coerce')\n",
    "school_growth_src.head()"
   ]
  },
  {
   "cell_type": "code",
   "execution_count": null,
   "metadata": {},
   "outputs": [],
   "source": [
    "#  filtering out bad data and replaceing null scores with district average\n",
    "school_growth = school_growth_src[(school_growth_src['StudentGroup'] == \"Schoolwide\") & (school_growth_src['DistrictMedian'].notnull())]\n",
    "school_growth[\"SchoolMedian\"].fillna(school_growth[\"DistrictMedian\"], inplace=True)\n",
    "# school_growth.loc[(school_growth['SchoolMedian'] == 0) & (school_growth[\"SchoolMedian\"].isnull()), 'SchoolMedian'] = school_growth[\"DistrictMedian\"]\n",
    "\n",
    "school_growth.head()"
   ]
  },
  {
   "cell_type": "code",
   "execution_count": null,
   "metadata": {},
   "outputs": [],
   "source": [
    "#  aggreagating the dataframe to get the ranking per school\n",
    "school_growth.rename(columns = {\"CountyCode\": 'county_code', \"CountyName\": \"county_name\",\n",
    "                               \"DistrictCode\": \"district_code\", \"DistrictName\": \"district_name\",\n",
    "                               \"SchoolCode\": \"school_code\", \"SchoolName\": \"school_name\"}, inplace = True)\n",
    "\n",
    "school_growth = school_growth.groupby([\"county_code\", \"county_name\", \"district_code\", \"district_name\", \"school_code\", \"school_name\"]\\\n",
    "                                      , as_index =False).agg(rating = (\"SchoolMedian\", \"mean\"))\n",
    "school_growth['county_name'] = school_growth['county_name'].str.upper()\n",
    "school_growth.head()"
   ]
  },
  {
   "cell_type": "code",
   "execution_count": null,
   "metadata": {
    "scrolled": true
   },
   "outputs": [],
   "source": [
    "#  Check for nulls\n",
    "school_growth[school_growth[\"rating\"].isnull()]"
   ]
  },
  {
   "cell_type": "code",
   "execution_count": null,
   "metadata": {},
   "outputs": [],
   "source": [
    "# joining the 2 dataframes to create the final dataset for NJ school \n",
    "school_rating_df = pd.merge(school_info, school_growth, how = \"inner\", on = ['county_code', 'county_name', 'district_code', 'district_name', 'school_code', 'school_name'])\n",
    "school_rating_df.head()"
   ]
  },
  {
   "cell_type": "code",
   "execution_count": null,
   "metadata": {},
   "outputs": [],
   "source": [
    "#  Check for nulls\n",
    "school_rating_df[school_rating_df[\"rating\"].isnull()]"
   ]
  },
  {
   "cell_type": "code",
   "execution_count": null,
   "metadata": {},
   "outputs": [],
   "source": [
    "# close the browser session    \n",
    "browser.quit()"
   ]
  },
  {
   "cell_type": "markdown",
   "metadata": {},
   "source": [
    "## Poverty 2019 (latest)"
   ]
  },
  {
   "cell_type": "code",
   "execution_count": null,
   "metadata": {},
   "outputs": [],
   "source": [
    "# URL for county poverty data\n",
    "poverty_url = 'https://api.census.gov/data/timeseries/poverty/saipe?get=NAME,SAEMHI_PT,SAEMHI_MOE,SAEPOVALL_PT,SAEPOVALL_MOE,SAEPOVRTALL_MOE,SAEPOVRTALL_PT,STABREV&for=county:*&in=state:34&YEAR=2019'"
   ]
  },
  {
   "cell_type": "code",
   "execution_count": null,
   "metadata": {},
   "outputs": [],
   "source": [
    "# API call to get countries metadata\n",
    "poverty_data = requests.get(poverty_url).json()\n",
    "pprint(poverty_data)"
   ]
  },
  {
   "cell_type": "code",
   "execution_count": null,
   "metadata": {},
   "outputs": [],
   "source": [
    "# initialize empty lists\n",
    "county_name = []\n",
    "median_hh_income = []\n",
    "median_hh_inc_moe = []\n",
    "poverty_count = []\n",
    "poverty_count_moe = []\n",
    "poverty_rate = []\n",
    "poverty_rate_moe = []\n",
    "st_abb =[]\n",
    "state_fips = []\n",
    "county_fips = []"
   ]
  },
  {
   "cell_type": "code",
   "execution_count": null,
   "metadata": {},
   "outputs": [],
   "source": [
    "# iterate through the response to populate the lists and create a dataframe\n",
    "for i in range(1,len(poverty_data)):\n",
    "    county_name.append(poverty_data[i][0])\n",
    "    median_hh_income.append(poverty_data[i][1])\n",
    "    median_hh_inc_moe.append(poverty_data[i][2])\n",
    "    poverty_count.append(poverty_data[i][3])\n",
    "    poverty_count_moe.append(poverty_data[i][4])\n",
    "    poverty_rate.append(poverty_data[i][5])\n",
    "    poverty_rate_moe.append(poverty_data[i][6])\n",
    "    st_abb.append(poverty_data[i][7])\n",
    "    state_fips.append(poverty_data[i][9])\n",
    "    county_fips.append(poverty_data[i][10])\n",
    "counties_poverty_df = pd.DataFrame({\"county_name\": county_name,\n",
    "                                    \"median_hh_income\": median_hh_income,\n",
    "                                    \"median_hh_inc_moe\": median_hh_inc_moe,\n",
    "                                    \"poverty_count\": poverty_count,\n",
    "                                    \"poverty_count_moe\": poverty_count_moe,\n",
    "                                    \"poverty_rate\": poverty_rate,\n",
    "                                    \"poverty_rate_moe\": poverty_rate_moe,\n",
    "                                    \"st_abb\": st_abb,\n",
    "                                    \"state_fips\": state_fips,\n",
    "                                    \"county_fips\": county_fips})\n",
    "counties_poverty_df.head()"
   ]
  },
  {
   "cell_type": "code",
   "execution_count": null,
   "metadata": {
    "scrolled": true
   },
   "outputs": [],
   "source": [
    "# Manipulating the column name to match across all the datasets\n",
    "counties_poverty_df['county_name']= counties_poverty_df.county_name.str.replace(\"County\",\"\")\n",
    "counties_poverty_df['county_name']= counties_poverty_df['county_name'].str.upper()\n",
    "counties_poverty_df['county_name']= counties_poverty_df['county_name'].str.strip()\n",
    "counties_poverty_df"
   ]
  },
  {
   "cell_type": "code",
   "execution_count": null,
   "metadata": {},
   "outputs": [],
   "source": [
    "# unique county count\n",
    "counties_poverty_df['county_name'].nunique()"
   ]
  },
  {
   "cell_type": "markdown",
   "metadata": {},
   "source": [
    "## NJ Tax 2020"
   ]
  },
  {
   "cell_type": "code",
   "execution_count": null,
   "metadata": {},
   "outputs": [],
   "source": [
    "# create a browser instance using splinter\n",
    "executable_path = {'executable_path': ChromeDriverManager().install()}\n",
    "browser = Browser('chrome', **executable_path, headless=False)\n",
    "time.sleep(1)"
   ]
  },
  {
   "cell_type": "code",
   "execution_count": null,
   "metadata": {},
   "outputs": [],
   "source": [
    "# visit the Mars News url\n",
    "crime_NJ_URL = 'https://www.state.nj.us/treasury/taxation/lpt/taxrate.shtml'\n",
    "browser.visit(crime_NJ_URL)\n",
    "time.sleep(2)\n",
    "\n",
    "# create HTML object\n",
    "html = browser.html\n",
    "\n",
    "# parse HTML with BeautifulSoup\n",
    "soup = BeautifulSoup(html, 'lxml')"
   ]
  },
  {
   "cell_type": "code",
   "execution_count": null,
   "metadata": {},
   "outputs": [],
   "source": [
    "div = soup.find('div', class_ = 'col-lg-10 col-xl-10')\n",
    "download_file_link_partial = div.find_all('a', href = True, target =True)[0]['href']\n",
    "download_file_link_partial"
   ]
  },
  {
   "cell_type": "code",
   "execution_count": null,
   "metadata": {},
   "outputs": [],
   "source": [
    "base_url = \"https://www.state.nj.us/treasury/taxation/lpt/\"\n",
    "download_file_link = base_url + download_file_link_partial\n",
    "download_file_link"
   ]
  },
  {
   "cell_type": "code",
   "execution_count": null,
   "metadata": {},
   "outputs": [],
   "source": [
    "xls = pd.ExcelFile(download_file_link)\n",
    "tax_sheet = xls.sheet_names\n",
    "print(tax_sheet)"
   ]
  },
  {
   "cell_type": "code",
   "execution_count": null,
   "metadata": {},
   "outputs": [],
   "source": [
    "dtype_dic= {'Cty/District Code' : str, 'CNTY/DIST CODE':str}"
   ]
  },
  {
   "cell_type": "code",
   "execution_count": null,
   "metadata": {
    "scrolled": true
   },
   "outputs": [],
   "source": [
    "NJ_gen_tax_df = pd.read_excel(download_file_link,engine='xlrd',sheet_name=tax_sheet[0], skiprows=range(1), dtype = dtype_dic).dropna(how= \"any\")\n",
    "NJ_gen_tax_df = NJ_gen_tax_df.iloc[:, [0,1,2,len(NJ_gen_tax_df.columns)-1]]\n",
    "NJ_gen_tax_df.iloc[:,1] = NJ_gen_tax_df.iloc[:,1].apply(lambda x: x.zfill(4))\n",
    "NJ_gen_tax_df.rename(columns = {'County': 'county_name', 'Cty/District Code':'district_code', 'District':'district_name', 'GENERAL.23': 'general_tax_rate'},inplace = True)\n",
    "NJ_gen_tax_df.reset_index(drop= True, inplace = True)\n",
    "NJ_gen_tax_df.head()"
   ]
  },
  {
   "cell_type": "code",
   "execution_count": null,
   "metadata": {},
   "outputs": [],
   "source": [
    "NJ_eff_tax_df = pd.read_excel(download_file_link,engine='xlrd',sheet_name=tax_sheet[1], skiprows=range(1), dtype = dtype_dic).dropna(how= \"any\")\n",
    "NJ_eff_tax_df = NJ_eff_tax_df.iloc[:, [0,1,2,len(NJ_eff_tax_df.columns)-1]]\n",
    "NJ_eff_tax_df.iloc[:,1] = NJ_eff_tax_df.iloc[:,1].apply(lambda x: x.zfill(4))\n",
    "NJ_eff_tax_df.rename(columns = {'COUNTY': 'county_name', 'CNTY/DIST CODE':'district_code', 'DISTRICT':'district_name', 'EFFECTIVE.23': 'effective_tax_rate'},inplace = True)\n",
    "NJ_eff_tax_df.reset_index(drop= True, inplace = True)\n",
    "NJ_eff_tax_df.head()"
   ]
  },
  {
   "cell_type": "code",
   "execution_count": null,
   "metadata": {},
   "outputs": [],
   "source": [
    "# close the browser session    \n",
    "browser.quit()"
   ]
  },
  {
   "cell_type": "code",
   "execution_count": null,
   "metadata": {},
   "outputs": [],
   "source": [
    "NJ_tax_df = pd.merge(NJ_gen_tax_df, NJ_eff_tax_df, how = 'left', on = ['county_name', 'district_code', 'district_name'])\n",
    "NJ_tax_df.head()"
   ]
  },
  {
   "cell_type": "markdown",
   "metadata": {},
   "source": [
    "## County crime reports 2020"
   ]
  },
  {
   "cell_type": "code",
   "execution_count": null,
   "metadata": {},
   "outputs": [],
   "source": [
    "# create a browser instance using splinter\n",
    "executable_path = {'executable_path': ChromeDriverManager().install()}\n",
    "browser = Browser('chrome', **executable_path, headless=False)\n",
    "time.sleep(1)"
   ]
  },
  {
   "cell_type": "code",
   "execution_count": null,
   "metadata": {
    "scrolled": true
   },
   "outputs": [],
   "source": [
    "# visit the Mars News url\n",
    "crime_NJ_URL = 'https://www.njsp.org/ucr/current-crime-data.shtml'\n",
    "browser.visit(crime_NJ_URL)\n",
    "time.sleep(2)\n",
    "\n",
    "# create HTML object\n",
    "html = browser.html\n",
    "\n",
    "# parse HTML with BeautifulSoup\n",
    "soup = BeautifulSoup(html, 'lxml')"
   ]
  },
  {
   "cell_type": "code",
   "execution_count": null,
   "metadata": {},
   "outputs": [],
   "source": [
    "# use splinter to click on the 'Continue' button to retrieve a full-size jpg url\n",
    "browser.find_by_tag(\"input\").last.click()\n",
    "time.sleep(1)"
   ]
  },
  {
   "cell_type": "code",
   "execution_count": null,
   "metadata": {},
   "outputs": [],
   "source": [
    "# create HTML object\n",
    "html = browser.html\n",
    "# parse HTML with BeautifulSoup\n",
    "soup = BeautifulSoup(html, 'lxml')\n",
    "# fetch the table\n",
    "table = soup.find('table')\n",
    "# fetch the partial link for donwloadable file\n",
    "download_item = table.find_all('a', href = True)\n",
    "download_link= download_item[0]['href']\n",
    "# create full download link\n",
    "base_url= 'https://www.njsp.org/ucr/'\n",
    "full_file_link = base_url+download_link\n",
    "print(full_file_link)"
   ]
  },
  {
   "cell_type": "code",
   "execution_count": null,
   "metadata": {},
   "outputs": [],
   "source": [
    "# close the browser session    \n",
    "browser.quit()"
   ]
  },
  {
   "cell_type": "code",
   "execution_count": null,
   "metadata": {},
   "outputs": [],
   "source": [
    "# create xlsx object with the file from the link\n",
    "xls = pd.ExcelFile(full_file_link,\n",
    "     engine='openpyxl')\n",
    "# get all the worksheet names\n",
    "crime_sheet = xls.sheet_names\n",
    "print(crime_sheet)"
   ]
  },
  {
   "cell_type": "code",
   "execution_count": null,
   "metadata": {},
   "outputs": [],
   "source": [
    "# unique county\n",
    "len(crime_sheet[1:])"
   ]
  },
  {
   "cell_type": "code",
   "execution_count": null,
   "metadata": {},
   "outputs": [],
   "source": [
    "# create separate dataframes for each worksheet\n",
    "for i in range(1,len(crime_sheet)):\n",
    "    globals()['crime_%s' % crime_sheet[i].lower().replace(\" \", \"_\")] = pd.read_excel(full_file_link,\n",
    "     engine='openpyxl',sheet_name=crime_sheet[i], skiprows=range(3)).dropna(how=\"all\")\n",
    "    globals()['crime_%s' % crime_sheet[i].lower().replace(\" \", \"_\")][\"county_name\"] = '%s' % crime_sheet[i].upper()\n",
    "    globals()['crime_%s' % crime_sheet[i].lower().replace(\" \", \"_\")].drop(globals()['crime_%s' % crime_sheet[i].lower().replace(\" \", \"_\")].tail(7).index, inplace = True)\n",
    "    print('crime_%s' % crime_sheet[i].lower().replace(\" \", \"_\"))"
   ]
  },
  {
   "cell_type": "markdown",
   "metadata": {},
   "source": [
    "### Offline copy import"
   ]
  },
  {
   "cell_type": "code",
   "execution_count": null,
   "metadata": {},
   "outputs": [],
   "source": [
    "# del [crime_atlantic,\n",
    "# crime_bergen,\n",
    "# crime_burlington,\n",
    "# crime_camden,\n",
    "# crime_cape_may,\n",
    "# crime_cumberland,\n",
    "# crime_essex,\n",
    "# crime_gloucester,\n",
    "# crime_hudson,\n",
    "# crime_hunterdon,\n",
    "# crime_mercer,\n",
    "# crime_middlesex,\n",
    "# crime_monmouth,\n",
    "# crime_morris,\n",
    "# crime_ocean,\n",
    "# crime_passaic,\n",
    "# crime_salem,\n",
    "# crime_somerset,\n",
    "# crime_sussex,\n",
    "# crime_union,\n",
    "# crime_warren]"
   ]
  },
  {
   "cell_type": "code",
   "execution_count": null,
   "metadata": {},
   "outputs": [],
   "source": [
    "# source : https://www.njsp.org/ucr/current-crime-data1.shtml?agree=0\n",
    "# xls = pd.ExcelFile(os.path.join(\"data\", \"2020_UCR_Jan-Sept_v2.xlsx\"),\n",
    "#      engine='openpyxl')"
   ]
  },
  {
   "cell_type": "code",
   "execution_count": null,
   "metadata": {},
   "outputs": [],
   "source": [
    "# crime_sheet = xls.sheet_names\n",
    "# crime_sheet"
   ]
  },
  {
   "cell_type": "code",
   "execution_count": null,
   "metadata": {},
   "outputs": [],
   "source": [
    "# for i in range(1,len(crime_sheet)):\n",
    "#     globals()['crime_%s' % crime_sheet[i].lower()] = pd.read_excel(os.path.join(\"data\", \"2020_UCR_Jan-Sept_v2.xlsx\"),\n",
    "#      engine='openpyxl',sheet_name=crime_sheet[i], skiprows=range(3)).dropna(how=\"all\")\n",
    "#     print('crime_%s' % crime_sheet[i].lower())"
   ]
  },
  {
   "cell_type": "code",
   "execution_count": null,
   "metadata": {},
   "outputs": [],
   "source": [
    "# concat all the dataframes\n",
    "all_crime_df = pd.concat([crime_atlantic,\n",
    "crime_bergen,\n",
    "crime_burlington,\n",
    "crime_camden,\n",
    "crime_cape_may,\n",
    "crime_cumberland,\n",
    "crime_essex,\n",
    "crime_gloucester,\n",
    "crime_hudson,\n",
    "crime_hunterdon,\n",
    "crime_mercer,\n",
    "crime_middlesex,\n",
    "crime_monmouth,\n",
    "crime_morris,\n",
    "crime_ocean,\n",
    "crime_passaic,\n",
    "crime_salem,\n",
    "crime_somerset,\n",
    "crime_sussex,\n",
    "crime_union,\n",
    "crime_warren], ignore_index = True)"
   ]
  },
  {
   "cell_type": "code",
   "execution_count": null,
   "metadata": {},
   "outputs": [],
   "source": [
    "# make all the column name lower case\n",
    "all_crime_df.columns= all_crime_df.columns.str.lower()\n",
    "all_crime_df.columns= all_crime_df.columns.str.replace(\" \",\"_\")\n",
    "all_crime_df.head(10)"
   ]
  },
  {
   "cell_type": "markdown",
   "metadata": {},
   "source": [
    "### Population dataset"
   ]
  },
  {
   "cell_type": "code",
   "execution_count": null,
   "metadata": {
    "scrolled": false
   },
   "outputs": [],
   "source": [
    "population_df = all_crime_df[[\"county_name\",\"agency\", \"orinumber\", \"population\"]].dropna(how=\"any\")\n",
    "population_df[\"population\"] = population_df[\"population\"].astype(int)\n",
    "population_df.drop_duplicates(keep='first', inplace= True, ignore_index=True)\n",
    "population_df.head(-10)"
   ]
  },
  {
   "cell_type": "code",
   "execution_count": null,
   "metadata": {},
   "outputs": [],
   "source": [
    "# unique county count\n",
    "population_df['county_name'].nunique()"
   ]
  },
  {
   "cell_type": "code",
   "execution_count": null,
   "metadata": {},
   "outputs": [],
   "source": [
    "len(population_df)"
   ]
  },
  {
   "cell_type": "markdown",
   "metadata": {},
   "source": [
    "### Crime detail"
   ]
  },
  {
   "cell_type": "code",
   "execution_count": null,
   "metadata": {},
   "outputs": [],
   "source": [
    "# create a list of all police department\n",
    "pol_dep = []\n",
    "for i in range(len(population_df[\"agency\"])):\n",
    "    for k in range(5):\n",
    "        pol_dep.append(population_df[\"agency\"][i])\n",
    "print(pol_dep)"
   ]
  },
  {
   "cell_type": "code",
   "execution_count": null,
   "metadata": {},
   "outputs": [],
   "source": [
    "len(pol_dep)"
   ]
  },
  {
   "cell_type": "code",
   "execution_count": null,
   "metadata": {
    "scrolled": true
   },
   "outputs": [],
   "source": [
    "# Alogning the crime data to ingest the police deprtment list as a column\n",
    "crime_det_df = all_crime_df[[\"county_name\",\"agency\", \"murder\", \"rape\", \"robbery\", \"assault\", \"burglary\",\\\n",
    "                         \"larceny\", \"auto_theft\", \"total\"]].dropna(how=\"any\")\n",
    "\n",
    "crime_det_df.rename(columns = {\"agency\": \"report_type\"}, inplace =True)\n",
    "\n",
    "crime_det_df = crime_det_df.loc[crime_det_df[\"report_type\"] != crime_det_df[\"report_type\"].shift()]\n",
    "crime_det_df.reset_index(inplace= True, drop = True)\n",
    "crime_det_df[\"police_dept\"] = pol_dep\n",
    "crime_det_df = crime_det_df[[\"county_name\",\"police_dept\", \"report_type\", \"murder\", \"rape\", \"robbery\", \"assault\", \"burglary\",\\\n",
    "                         \"larceny\", \"auto_theft\", \"total\"]]\n",
    "crime_det_df.head(-1)"
   ]
  },
  {
   "cell_type": "markdown",
   "metadata": {},
   "source": [
    "### Crime summary dataset"
   ]
  },
  {
   "cell_type": "code",
   "execution_count": null,
   "metadata": {
    "scrolled": true
   },
   "outputs": [],
   "source": [
    "# creatuion of crime summary dataset\n",
    "crime_df = all_crime_df[[\"county_name\",\"agency\", \"murder\", \"rape\", \"robbery\", \"assault\", \"burglary\",\\\n",
    "                         \"larceny\", \"auto_theft\", \"total\"]].dropna(how=\"any\")\n",
    "crime_df.reset_index(inplace= True, drop = True)\n",
    "crime_df.rename(columns = {\"agency\": \"report_type\"}, inplace =True)\n",
    "crime_df = crime_df.groupby(['county_name', 'report_type'],as_index=False).agg(murder = ('murder', 'sum'), rape = ('rape', 'sum'),\\\n",
    "                                                               robbery = ('robbery', 'sum'),assault = ('assault', 'sum'),\\\n",
    "                                                               burglary = ('burglary', 'sum'),larceny = ('larceny', 'sum'),\\\n",
    "                                                               auto_theft = ('auto_theft', 'sum'),total = ('total', 'sum'))\n",
    "crime_df.head(-10)"
   ]
  },
  {
   "cell_type": "code",
   "execution_count": null,
   "metadata": {},
   "outputs": [],
   "source": [
    "# unique county count\n",
    "crime_df['county_name'].nunique()"
   ]
  },
  {
   "cell_type": "code",
   "execution_count": null,
   "metadata": {},
   "outputs": [],
   "source": [
    "# county record count\n",
    "crime_df['county_name'].value_counts()"
   ]
  },
  {
   "cell_type": "markdown",
   "metadata": {},
   "source": [
    "# DB load"
   ]
  },
  {
   "cell_type": "code",
   "execution_count": null,
   "metadata": {},
   "outputs": [],
   "source": [
    "# Connect to the NJ_CPS database\n",
    "connection  = sqlite3.connect(\"Resources/NJ_CPS.sqlite\")\n",
    "\n",
    "# Get a cursor object\n",
    "cursor = connection.cursor()\n",
    "\n",
    "# Execute the DROP Table SQL statement\n",
    "drop_school = \"DROP TABLE IF EXISTS NJ_school_rating\"\n",
    "\n",
    "cursor.execute(drop_school)\n",
    "\n",
    "drop_poverty = \"DROP TABLE IF EXISTS NJ_poverty\"\n",
    "\n",
    "cursor.execute(drop_poverty)\n",
    "\n",
    "drop_population = \"DROP TABLE IF EXISTS NJ_population\"\n",
    "\n",
    "cursor.execute(drop_population)\n",
    "\n",
    "drop_crime = \"DROP TABLE IF EXISTS NJ_crime\"\n",
    "\n",
    "cursor.execute(drop_crime)\n",
    "\n",
    "drop_crime_det = \"DROP TABLE IF EXISTS NJ_crime_detail\"\n",
    "\n",
    "cursor.execute(drop_crime_det)\n",
    "\n",
    "drop_tax = \"DROP TABLE IF EXISTS NJ_tax\"\n",
    "\n",
    "cursor.execute(drop_tax)\n",
    "\n",
    "drop_geojson = \"DROP TABLE IF EXISTS NJ_geojson\"\n",
    "\n",
    "cursor.execute(drop_geojson)\n",
    "\n",
    "drop_house = \"DROP TABLE IF EXISTS NJ_house_price\"\n",
    "\n",
    "cursor.execute(drop_house)"
   ]
  },
  {
   "cell_type": "code",
   "execution_count": 4,
   "metadata": {},
   "outputs": [
    {
     "name": "stdout",
     "output_type": "stream",
     "text": [
      "2021-04-18 16:53:46,045 INFO sqlalchemy.engine.base.Engine SELECT CAST('test plain returns' AS VARCHAR(60)) AS anon_1\n",
      "2021-04-18 16:53:46,047 INFO sqlalchemy.engine.base.Engine ()\n",
      "2021-04-18 16:53:46,048 INFO sqlalchemy.engine.base.Engine SELECT CAST('test unicode returns' AS VARCHAR(60)) AS anon_1\n",
      "2021-04-18 16:53:46,048 INFO sqlalchemy.engine.base.Engine ()\n"
     ]
    }
   ],
   "source": [
    "#  SQLite DB creation and establishing connection\n",
    "database_path = \"../Resources/NJ_CPS.sqlite\"\n",
    "engine = create_engine(f\"sqlite:///{database_path}\", echo=True)\n",
    "sqlite_connection = engine.connect()"
   ]
  },
  {
   "cell_type": "markdown",
   "metadata": {},
   "source": [
    "# Loading zillow data in to DB"
   ]
  },
  {
   "cell_type": "code",
   "execution_count": 5,
   "metadata": {},
   "outputs": [
    {
     "data": {
      "text/html": [
       "<div>\n",
       "<style scoped>\n",
       "    .dataframe tbody tr th:only-of-type {\n",
       "        vertical-align: middle;\n",
       "    }\n",
       "\n",
       "    .dataframe tbody tr th {\n",
       "        vertical-align: top;\n",
       "    }\n",
       "\n",
       "    .dataframe thead th {\n",
       "        text-align: right;\n",
       "    }\n",
       "</style>\n",
       "<table border=\"1\" class=\"dataframe\">\n",
       "  <thead>\n",
       "    <tr style=\"text-align: right;\">\n",
       "      <th></th>\n",
       "      <th>county</th>\n",
       "      <th>year</th>\n",
       "      <th>price</th>\n",
       "    </tr>\n",
       "  </thead>\n",
       "  <tbody>\n",
       "    <tr>\n",
       "      <th>0</th>\n",
       "      <td>Atlantic</td>\n",
       "      <td>1996</td>\n",
       "      <td>108995.08</td>\n",
       "    </tr>\n",
       "    <tr>\n",
       "      <th>1</th>\n",
       "      <td>Atlantic</td>\n",
       "      <td>1997</td>\n",
       "      <td>111600.33</td>\n",
       "    </tr>\n",
       "    <tr>\n",
       "      <th>2</th>\n",
       "      <td>Atlantic</td>\n",
       "      <td>1998</td>\n",
       "      <td>115382.33</td>\n",
       "    </tr>\n",
       "    <tr>\n",
       "      <th>3</th>\n",
       "      <td>Atlantic</td>\n",
       "      <td>1999</td>\n",
       "      <td>120679.00</td>\n",
       "    </tr>\n",
       "    <tr>\n",
       "      <th>4</th>\n",
       "      <td>Atlantic</td>\n",
       "      <td>2000</td>\n",
       "      <td>128581.33</td>\n",
       "    </tr>\n",
       "  </tbody>\n",
       "</table>\n",
       "</div>"
      ],
      "text/plain": [
       "     county  year      price\n",
       "0  Atlantic  1996  108995.08\n",
       "1  Atlantic  1997  111600.33\n",
       "2  Atlantic  1998  115382.33\n",
       "3  Atlantic  1999  120679.00\n",
       "4  Atlantic  2000  128581.33"
      ]
     },
     "execution_count": 5,
     "metadata": {},
     "output_type": "execute_result"
    }
   ],
   "source": [
    "zillow_df = pd.read_csv('../Resources/zillow_house_cleaned.csv')\n",
    "zillow_df.head()"
   ]
  },
  {
   "cell_type": "code",
   "execution_count": 10,
   "metadata": {},
   "outputs": [
    {
     "name": "stdout",
     "output_type": "stream",
     "text": [
      "2021-04-18 17:05:40,454 INFO sqlalchemy.engine.base.Engine PRAGMA main.table_info(\"NJ_house_price\")\n",
      "2021-04-18 17:05:40,455 INFO sqlalchemy.engine.base.Engine ()\n",
      "2021-04-18 17:05:40,457 INFO sqlalchemy.engine.base.Engine PRAGMA temp.table_info(\"NJ_house_price\")\n",
      "2021-04-18 17:05:40,458 INFO sqlalchemy.engine.base.Engine ()\n",
      "2021-04-18 17:05:40,460 INFO sqlalchemy.engine.base.Engine \n",
      "CREATE TABLE \"NJ_house_price\" (\n",
      "\tcounty TEXT, \n",
      "\tyear BIGINT, \n",
      "\tprice FLOAT\n",
      ")\n",
      "\n",
      "\n",
      "2021-04-18 17:05:40,461 INFO sqlalchemy.engine.base.Engine ()\n",
      "2021-04-18 17:05:40,475 INFO sqlalchemy.engine.base.Engine COMMIT\n",
      "2021-04-18 17:05:40,477 INFO sqlalchemy.engine.base.Engine BEGIN (implicit)\n",
      "2021-04-18 17:05:40,480 INFO sqlalchemy.engine.base.Engine INSERT INTO \"NJ_house_price\" (county, year, price) VALUES (?, ?, ?)\n",
      "2021-04-18 17:05:40,481 INFO sqlalchemy.engine.base.Engine (('Atlantic', 1996, 108995.08), ('Atlantic', 1997, 111600.33), ('Atlantic', 1998, 115382.33), ('Atlantic', 1999, 120679.0), ('Atlantic', 2000, 128581.33), ('Atlantic', 2001, 137365.92), ('Atlantic', 2002, 151304.17), ('Atlantic', 2003, 176166.75)  ... displaying 10 of 546 total bound parameter sets ...  ('Warren', 2020, 255353.17), ('Warren', 2021, 277534.0))\n",
      "2021-04-18 17:05:40,484 INFO sqlalchemy.engine.base.Engine COMMIT\n",
      "2021-04-18 17:05:40,496 INFO sqlalchemy.engine.base.Engine SELECT name FROM sqlite_master WHERE type='table' ORDER BY name\n",
      "2021-04-18 17:05:40,497 INFO sqlalchemy.engine.base.Engine ()\n"
     ]
    }
   ],
   "source": [
    "sqlite_table = \"NJ_house_price\"\n",
    "zillow_df.to_sql(sqlite_table, sqlite_connection, if_exists='replace', index=False)"
   ]
  },
  {
   "cell_type": "markdown",
   "metadata": {},
   "source": [
    "## Loading county tax in to DB"
   ]
  },
  {
   "cell_type": "code",
   "execution_count": null,
   "metadata": {},
   "outputs": [],
   "source": [
    "sqlite_table = \"NJ_tax\"\n",
    "NJ_tax_df.to_sql(sqlite_table, sqlite_connection, if_exists='replace', index=False)"
   ]
  },
  {
   "cell_type": "markdown",
   "metadata": {},
   "source": [
    "## Loading school ratings in to DB"
   ]
  },
  {
   "cell_type": "code",
   "execution_count": null,
   "metadata": {
    "scrolled": true
   },
   "outputs": [],
   "source": [
    "sqlite_table = \"NJ_school_rating\"\n",
    "school_rating_df.to_sql(sqlite_table, sqlite_connection, if_exists='replace', index=False)"
   ]
  },
  {
   "cell_type": "markdown",
   "metadata": {},
   "source": [
    "## Loading poverty rates in DB"
   ]
  },
  {
   "cell_type": "code",
   "execution_count": null,
   "metadata": {
    "scrolled": true
   },
   "outputs": [],
   "source": [
    "sqlite_table = \"NJ_poverty\"\n",
    "counties_poverty_df.to_sql(sqlite_table, sqlite_connection, if_exists='replace', index=False)"
   ]
  },
  {
   "cell_type": "markdown",
   "metadata": {},
   "source": [
    "## Loading crime detail data in DB"
   ]
  },
  {
   "cell_type": "code",
   "execution_count": null,
   "metadata": {},
   "outputs": [],
   "source": [
    "sqlite_table = \"NJ_crime_detail\"\n",
    "crime_det_df.to_sql(sqlite_table, sqlite_connection, if_exists='replace', index=False)"
   ]
  },
  {
   "cell_type": "markdown",
   "metadata": {},
   "source": [
    "## Loading crime data in DB"
   ]
  },
  {
   "cell_type": "code",
   "execution_count": null,
   "metadata": {
    "scrolled": true
   },
   "outputs": [],
   "source": [
    "sqlite_table = \"NJ_crime\"\n",
    "crime_df.to_sql(sqlite_table, sqlite_connection, if_exists='replace', index=False)"
   ]
  },
  {
   "cell_type": "markdown",
   "metadata": {},
   "source": [
    "## Loading population data in DB"
   ]
  },
  {
   "cell_type": "code",
   "execution_count": null,
   "metadata": {
    "scrolled": true
   },
   "outputs": [],
   "source": [
    "sqlite_table = \"NJ_population\"\n",
    "population_df.to_sql(sqlite_table, sqlite_connection, if_exists='replace', index=False)"
   ]
  },
  {
   "cell_type": "markdown",
   "metadata": {},
   "source": [
    "# DB query Test"
   ]
  },
  {
   "cell_type": "code",
   "execution_count": 14,
   "metadata": {},
   "outputs": [
    {
     "name": "stdout",
     "output_type": "stream",
     "text": [
      "2021-03-20 10:53:11,046 INFO sqlalchemy.engine.base.Engine PRAGMA main.table_info(\"SELECT * FROM NJ_poverty\")\n",
      "2021-03-20 10:53:11,047 INFO sqlalchemy.engine.base.Engine ()\n",
      "2021-03-20 10:53:11,048 INFO sqlalchemy.engine.base.Engine PRAGMA temp.table_info(\"SELECT * FROM NJ_poverty\")\n",
      "2021-03-20 10:53:11,049 INFO sqlalchemy.engine.base.Engine ()\n",
      "2021-03-20 10:53:11,049 INFO sqlalchemy.engine.base.Engine SELECT * FROM NJ_poverty\n",
      "2021-03-20 10:53:11,050 INFO sqlalchemy.engine.base.Engine ()\n"
     ]
    },
    {
     "data": {
      "text/html": [
       "<div>\n",
       "<style scoped>\n",
       "    .dataframe tbody tr th:only-of-type {\n",
       "        vertical-align: middle;\n",
       "    }\n",
       "\n",
       "    .dataframe tbody tr th {\n",
       "        vertical-align: top;\n",
       "    }\n",
       "\n",
       "    .dataframe thead th {\n",
       "        text-align: right;\n",
       "    }\n",
       "</style>\n",
       "<table border=\"1\" class=\"dataframe\">\n",
       "  <thead>\n",
       "    <tr style=\"text-align: right;\">\n",
       "      <th></th>\n",
       "      <th>county_name</th>\n",
       "      <th>median_hh_income</th>\n",
       "      <th>median_hh_inc_moe</th>\n",
       "      <th>poverty_count</th>\n",
       "      <th>poverty_count_moe</th>\n",
       "      <th>poverty_rate</th>\n",
       "      <th>poverty_rate_moe</th>\n",
       "      <th>st_abb</th>\n",
       "      <th>state_fips</th>\n",
       "      <th>county_fips</th>\n",
       "    </tr>\n",
       "  </thead>\n",
       "  <tbody>\n",
       "    <tr>\n",
       "      <th>0</th>\n",
       "      <td>ATLANTIC</td>\n",
       "      <td>62678</td>\n",
       "      <td>2822</td>\n",
       "      <td>29057</td>\n",
       "      <td>4251</td>\n",
       "      <td>1.6</td>\n",
       "      <td>11.3</td>\n",
       "      <td>NJ</td>\n",
       "      <td>34</td>\n",
       "      <td>001</td>\n",
       "    </tr>\n",
       "    <tr>\n",
       "      <th>1</th>\n",
       "      <td>BERGEN</td>\n",
       "      <td>107971</td>\n",
       "      <td>3025</td>\n",
       "      <td>52980</td>\n",
       "      <td>7662</td>\n",
       "      <td>0.8</td>\n",
       "      <td>5.7</td>\n",
       "      <td>NJ</td>\n",
       "      <td>34</td>\n",
       "      <td>003</td>\n",
       "    </tr>\n",
       "    <tr>\n",
       "      <th>2</th>\n",
       "      <td>BURLINGTON</td>\n",
       "      <td>88443</td>\n",
       "      <td>3233</td>\n",
       "      <td>24961</td>\n",
       "      <td>4374</td>\n",
       "      <td>1</td>\n",
       "      <td>5.7</td>\n",
       "      <td>NJ</td>\n",
       "      <td>34</td>\n",
       "      <td>005</td>\n",
       "    </tr>\n",
       "    <tr>\n",
       "      <th>3</th>\n",
       "      <td>CAMDEN</td>\n",
       "      <td>73168</td>\n",
       "      <td>2374</td>\n",
       "      <td>53641</td>\n",
       "      <td>7048</td>\n",
       "      <td>1.4</td>\n",
       "      <td>10.7</td>\n",
       "      <td>NJ</td>\n",
       "      <td>34</td>\n",
       "      <td>007</td>\n",
       "    </tr>\n",
       "    <tr>\n",
       "      <th>4</th>\n",
       "      <td>CAPE MAY</td>\n",
       "      <td>66565</td>\n",
       "      <td>4753</td>\n",
       "      <td>8853</td>\n",
       "      <td>1981</td>\n",
       "      <td>2.2</td>\n",
       "      <td>9.8</td>\n",
       "      <td>NJ</td>\n",
       "      <td>34</td>\n",
       "      <td>009</td>\n",
       "    </tr>\n",
       "  </tbody>\n",
       "</table>\n",
       "</div>"
      ],
      "text/plain": [
       "  county_name median_hh_income median_hh_inc_moe poverty_count  \\\n",
       "0    ATLANTIC            62678              2822         29057   \n",
       "1      BERGEN           107971              3025         52980   \n",
       "2  BURLINGTON            88443              3233         24961   \n",
       "3      CAMDEN            73168              2374         53641   \n",
       "4    CAPE MAY            66565              4753          8853   \n",
       "\n",
       "  poverty_count_moe poverty_rate poverty_rate_moe st_abb state_fips  \\\n",
       "0              4251          1.6             11.3     NJ         34   \n",
       "1              7662          0.8              5.7     NJ         34   \n",
       "2              4374            1              5.7     NJ         34   \n",
       "3              7048          1.4             10.7     NJ         34   \n",
       "4              1981          2.2              9.8     NJ         34   \n",
       "\n",
       "  county_fips  \n",
       "0         001  \n",
       "1         003  \n",
       "2         005  \n",
       "3         007  \n",
       "4         009  "
      ]
     },
     "execution_count": 14,
     "metadata": {},
     "output_type": "execute_result"
    }
   ],
   "source": [
    "query = \"SELECT * FROM NJ_poverty\"\n",
    "df = pd.read_sql(query, sqlite_connection)\n",
    "df.head()"
   ]
  },
  {
   "cell_type": "code",
   "execution_count": 15,
   "metadata": {},
   "outputs": [],
   "source": [
    "df.to_csv(\"data/poverty.csv\", index = False)"
   ]
  },
  {
   "cell_type": "code",
   "execution_count": null,
   "metadata": {},
   "outputs": [],
   "source": [
    "metadata_df = pd.read_sql_query(\"SELECT T1.*, T2.population, T3.general_tax_rate, T3.effective_tax_rate FROM (SELECT county_name,median_hh_income,poverty_rate FROM NJ_poverty) AS T1 \\\n",
    "                                INNER JOIN (SELECT county_name, SUM(population) as population FROM NJ_population GROUP BY county_name) AS T2\\\n",
    "                                ON T1.county_name = T2.county_name \\\n",
    "                                INNER JOIN (SELECT county_name, AVG(general_tax_rate) as general_tax_rate, AVG(effective_tax_rate) as effective_tax_rate FROM NJ_tax GROUP BY county_name) AS T3 \\\n",
    "                                ON T1.county_name = T3.county_name\", sqlite_connection)\n",
    "metadata_df[\"median_hh_income\"] = metadata_df[\"median_hh_income\"].astype(int)\n",
    "metadata_df"
   ]
  },
  {
   "cell_type": "code",
   "execution_count": null,
   "metadata": {
    "scrolled": false
   },
   "outputs": [],
   "source": [
    "crime_df = pd.read_sql_query(\"SELECT county_name, murder,rape, robbery, assault, burglary, larceny, auto_theft, total FROM NJ_crime WHERE report_type = 'Number of Offenses'\", sqlite_connection)\n",
    "crime_df.head()"
   ]
  },
  {
   "cell_type": "code",
   "execution_count": null,
   "metadata": {},
   "outputs": [],
   "source": [
    "query = '''SELECT POV.county_name, POV.median_hh_income, POV.poverty_rate, POV.county_fips,\n",
    "           CRM.total AS total_offense, ROUND(CRM2.total,2) AS rate_per_100k, CRM3.total AS total_arrest,\n",
    "           POP.population, SCH.school_rank, (TAX.general_tax_rate + TAX.effective_tax_rate)/2 AS tax_rate\n",
    "           FROM NJ_poverty AS POV \n",
    "           INNER JOIN NJ_crime AS CRM ON POV.county_name = CRM.county_name AND CRM.report_type = 'Number of Offenses'\n",
    "           INNER JOIN NJ_crime AS CRM2 ON POV.county_name = CRM2.county_name AND CRM2.report_type = 'Rate Per 100,000'\n",
    "           INNER JOIN NJ_crime AS CRM3 ON POV.county_name = CRM3.county_name AND CRM3.report_type = 'Number of Arrests'\n",
    "           INNER JOIN (SELECT county_name, SUM(population) AS population FROM NJ_population GROUP BY county_name) AS POP ON POV.county_name = POP.county_name\n",
    "           INNER JOIN (SELECT county_name, ROUND(AVG(summativescore),2) AS school_rank FROM NJ_school_rating GROUP BY county_name) AS SCH ON POV.county_name = SCH.county_name\n",
    "           INNER JOIN (SELECT county_name, AVG(general_tax_rate) as general_tax_rate, AVG(effective_tax_rate) as effective_tax_rate FROM NJ_tax GROUP BY county_name) AS TAX ON POV.county_name = TAX.county_name'''\n",
    "df = pd.read_sql(query, sqlite_connection)\n",
    "df.head()"
   ]
  },
  {
   "cell_type": "code",
   "execution_count": null,
   "metadata": {},
   "outputs": [],
   "source": [
    "query2 = '''SELECT DISTINCT county_name||\"-\"||police_dept AS id ,police_dept AS label,  \"NJ-\"||county_name AS parent, SUM(count) AS value FROM \n",
    "        (SELECT county_name,police_dept, 'murder' AS crime_type, SUM(murder) AS count FROM NJ_crime WHERE report_type = 'Number of Offenses' GROUP BY 1,2,3\n",
    "    UNION ALL SELECT county_name, police_dept, 'rape' AS crime_type, SUM(rape) AS count FROM NJ_crime WHERE report_type = 'Number of Offenses' GROUP BY 1,2,3\n",
    "    UNION ALL SELECT county_name, police_dept, 'robbery' AS crime_type, SUM(robbery) AS count FROM NJ_crime WHERE report_type = 'Number of Offenses' GROUP BY 1,2,3\n",
    "    UNION ALL SELECT county_name, police_dept,'assault' AS crime_type, SUM(assault) AS count FROM NJ_crime WHERE report_type = 'Number of Offenses' GROUP BY 1,2,3\n",
    "    UNION ALL SELECT county_name, police_dept,'burglary' AS crime_type, SUM(burglary) AS count FROM NJ_crime WHERE report_type = 'Number of Offenses' GROUP BY 1,2,3\n",
    "    UNION ALL SELECT county_name, police_dept,'larceny' AS crime_type, SUM(larceny) AS count FROM NJ_crime WHERE report_type = 'Number of Offenses' GROUP BY 1,2,3\n",
    "    UNION ALL SELECT county_name, police_dept,'auto_theft' AS crime_type, SUM(auto_theft) AS count FROM NJ_crime WHERE report_type = 'Number of Offenses' GROUP BY 1,2,3)\n",
    "    GROUP BY 1,2,3'''\n",
    "df2 = pd.read_sql(query2, sqlite_connection)\n",
    "df2.head()"
   ]
  },
  {
   "cell_type": "code",
   "execution_count": null,
   "metadata": {
    "scrolled": true
   },
   "outputs": [],
   "source": [
    "query = '''SELECT POV.county_name, POV.median_hh_income, POV.poverty_rate, POV.county_fips,\n",
    "               CRM.total AS total_offense, CRM2.total AS rate_per_100k, CRM3.total AS total_arrest,\n",
    "               POP.population, SCH.school_rank\n",
    "               FROM NJ_poverty AS POV \n",
    "               INNER JOIN NJ_crime AS CRM ON POV.county_name = CRM.county_name AND CRM.report_type = 'Number of Offenses'\n",
    "               INNER JOIN NJ_crime AS CRM2 ON POV.county_name = CRM2.county_name AND CRM2.report_type = 'Rate Per 100,000'\n",
    "               INNER JOIN NJ_crime AS CRM3 ON POV.county_name = CRM3.county_name AND CRM3.report_type = 'Number of Arrests'\n",
    "               INNER JOIN (SELECT county_name, SUM(population) AS population FROM NJ_population GROUP BY county_name) AS POP ON POV.county_name = POP.county_name\n",
    "               INNER JOIN (SELECT county_name, AVG(summativescore) AS school_rank FROM NJ_school_rating GROUP BY county_name) AS SCH ON POV.county_name = SCH.county_name'''\n",
    "test = pd.read_sql_query(query, sqlite_connection)\n",
    "test"
   ]
  },
  {
   "cell_type": "code",
   "execution_count": null,
   "metadata": {
    "scrolled": true
   },
   "outputs": [],
   "source": [
    "query = '''SELECT county_name, 'murder' AS crime_type, murder AS count FROM NJ_crime WHERE report_type = 'Number of Offenses'\n",
    "        UNION ALL SELECT county_name, 'rape' AS crime_type, rape AS count FROM NJ_crime WHERE report_type = 'Number of Offenses'\n",
    "        UNION ALL SELECT county_name, 'robbery' AS crime_type, robbery AS count FROM NJ_crime WHERE report_type = 'Number of Offenses'\n",
    "        UNION ALL SELECT county_name, 'assault' AS crime_type, assault AS count FROM NJ_crime WHERE report_type = 'Number of Offenses'\n",
    "        UNION ALL SELECT county_name, 'burglary' AS crime_type, burglary AS count FROM NJ_crime WHERE report_type = 'Number of Offenses'\n",
    "        UNION ALL SELECT county_name, 'larceny' AS crime_type, larceny AS count FROM NJ_crime WHERE report_type = 'Number of Offenses'\n",
    "        UNION ALL SELECT county_name, 'auto_theft' AS crime_type, auto_theft AS count FROM NJ_crime WHERE report_type = 'Number of Offenses'\n",
    "        '''\n",
    "test = pd.read_sql_query(query, sqlite_connection)\n",
    "test"
   ]
  },
  {
   "cell_type": "code",
   "execution_count": null,
   "metadata": {},
   "outputs": [],
   "source": [
    "query1 = '''SELECT DISTINCT \"NJ-\"||county_name AS id , county_name AS label,  '' AS parent, AVG(summativescore) AS value FROM \n",
    "        NJ_school_rating GROUP BY 1,2,3'''\n",
    "df1 = pd.read_sql(query1, sqlite_connection)\n",
    "df1.head()"
   ]
  },
  {
   "cell_type": "code",
   "execution_count": null,
   "metadata": {},
   "outputs": [],
   "source": [
    "query2 = '''SELECT DISTINCT county_name||\"-\"||district_name AS id ,district_name AS label,  \"NJ-\"||county_name AS parent, AVG(summativescore) AS value FROM \n",
    "        NJ_school_rating GROUP BY 1,2,3'''\n",
    "df2 = pd.read_sql(query2, sqlite_connection)\n",
    "df2.head()"
   ]
  },
  {
   "cell_type": "code",
   "execution_count": null,
   "metadata": {},
   "outputs": [],
   "source": [
    "query3 = '''SELECT DISTINCT district_name||\"-\"||school_name AS id ,school_name AS label,  county_name||\"-\"||district_name AS parent, AVG(summativescore) AS value FROM \n",
    "    NJ_school_rating GROUP BY 1,2,3'''\n",
    "df3 = pd.read_sql(query3, sqlite_connection)\n",
    "df3.head()"
   ]
  },
  {
   "cell_type": "code",
   "execution_count": null,
   "metadata": {
    "scrolled": true
   },
   "outputs": [],
   "source": [
    "query = '''SELECT county_name,district_name,gradespan,school_name,summativescore\n",
    "            FROM \n",
    "              ( SELECT county_name,district_name,gradespan,school_name, summativescore,\n",
    "                       ROW_NUMBER() OVER (PARTITION BY county_name\n",
    "                                          ORDER BY summativescore DESC) AS rn\n",
    "                FROM NJ_school_rating) AS tmp \n",
    "            WHERE rn <= 3\n",
    "            ORDER BY county_name ; '''\n",
    "test = pd.read_sql_query(query, sqlite_connection)\n",
    "test"
   ]
  },
  {
   "cell_type": "code",
   "execution_count": null,
   "metadata": {
    "scrolled": true
   },
   "outputs": [],
   "source": [
    "test = test.to_dict(orient='records')\n",
    "pprint(test)"
   ]
  },
  {
   "cell_type": "code",
   "execution_count": null,
   "metadata": {
    "scrolled": true
   },
   "outputs": [],
   "source": [
    "query1 = '''SELECT DISTINCT \"NJ-\"||county_name AS id , county_name AS label,  '' AS parent, SUM(population) AS value \n",
    "            FROM NJ_population                                                                                                  \n",
    "            GROUP BY 1,2,3'''\n",
    "df1 = pd.read_sql(query1, sqlite_connection)\n",
    "df1.head()"
   ]
  },
  {
   "cell_type": "code",
   "execution_count": null,
   "metadata": {},
   "outputs": [],
   "source": [
    "query2 = '''SELECT DISTINCT county_name||\"-\"||agency AS id ,agency AS label,  \"NJ-\"||county_name AS parent, SUM(population) AS value\n",
    "            FROM NJ_population  GROUP BY 1,2,3'''\n",
    "df2 = pd.read_sql(query2, sqlite_connection)\n",
    "df2.head()"
   ]
  },
  {
   "cell_type": "code",
   "execution_count": null,
   "metadata": {},
   "outputs": [],
   "source": [
    "sqlite_connection.close()"
   ]
  },
  {
   "cell_type": "markdown",
   "metadata": {},
   "source": [
    "# JSON creation"
   ]
  },
  {
   "cell_type": "code",
   "execution_count": null,
   "metadata": {},
   "outputs": [],
   "source": [
    "flare = {}\n",
    "flare[\"name\"] = \"flare\"\n",
    "flare[\"description\"] = \"flare\"\n",
    "flare"
   ]
  },
  {
   "cell_type": "code",
   "execution_count": null,
   "metadata": {},
   "outputs": [],
   "source": [
    "counties = list(test['county_name'].unique())\n",
    "# counties"
   ]
  },
  {
   "cell_type": "code",
   "execution_count": null,
   "metadata": {},
   "outputs": [],
   "source": [
    "children = []\n",
    "for i in range(len(counties)):\n",
    "    child1 = {}\n",
    "    child1[\"name\"] = counties[i]\n",
    "    child1[\"description\"] = test['rating'].loc[test['county_name']==counties[i]].mean()\n",
    "    district = list(test['district_name'].loc[test['county_name']==counties[i]].unique())\n",
    "    child2_list = []\n",
    "    for k in range(len(district)):\n",
    "        child2 = {}\n",
    "        child2[\"name\"] = district[k]\n",
    "        child2[\"description\"] = test['rating'].loc[(test['county_name']==counties[i]) & (test['district_name'] == district[k])].mean()\n",
    "        child3_list = []\n",
    "        gradespan = list(test['gradespan'].loc[(test['county_name']==counties[i]) & (test['district_name'] == district[k])].unique())\n",
    "        for j in range(len(gradespan)):\n",
    "            child3 = {}\n",
    "            child3[\"name\"] = gradespan[j]\n",
    "            child3[\"description\"] = test[\"rating\"].loc[(test['county_name']==counties[i]) & (test['district_name'] == district[k]) & (test['gradespan'] == gradespan[j])].mean()\n",
    "            child4_list = []\n",
    "            for index,row in test.loc[(test['county_name']==counties[i]) & (test['district_name'] == district[k]) & (test['gradespan'] == gradespan[j])].iterrows():\n",
    "                child4 = {}\n",
    "                child4[\"name\"] = row[\"school_name\"]\n",
    "                child4[\"description\"] = row[\"rating\"]\n",
    "                child4[\"size\"] = row[\"rating\"]\n",
    "                child4_list.append(child4)\n",
    "            child3[\"children\"] = child4_list\n",
    "            child3_list.append(child3)\n",
    "        child2[\"children\"] = child3_list\n",
    "        child2_list.append(child2)\n",
    "    child1[\"children\"] = child2_list\n",
    "    children.append(child1)\n",
    "children"
   ]
  },
  {
   "cell_type": "code",
   "execution_count": null,
   "metadata": {},
   "outputs": [],
   "source": [
    "flare[\"children\"] = children\n",
    "flare"
   ]
  },
  {
   "cell_type": "code",
   "execution_count": null,
   "metadata": {},
   "outputs": [],
   "source": [
    "with open(\"static/data/school.json\", \"w\",encoding ='utf8') as outfile:  \n",
    "    json.dump(flare, outfile, indent = 1) "
   ]
  },
  {
   "cell_type": "code",
   "execution_count": null,
   "metadata": {},
   "outputs": [],
   "source": [
    "metadata_df = pd.read_sql_query(\"SELECT T1.*, T2.population, T3.general_tax_rate, T3.effective_tax_rate FROM (SELECT county_name,median_hh_income,poverty_rate FROM NJ_poverty) AS T1 \\\n",
    "                            INNER JOIN (SELECT county_name, SUM(population) as population FROM NJ_population GROUP BY county_name) AS T2\\\n",
    "                            ON T1.county_name = T2.county_name \\\n",
    "                            INNER JOIN (SELECT county_name, AVG(general_tax_rate) as general_tax_rate, AVG(effective_tax_rate) as effective_tax_rate FROM NJ_tax GROUP BY county_name) AS T3 \\\n",
    "                            ON T1.county_name = T3.county_name\", sqlite_connection)\n",
    "metadata_dict = metadata_df.to_dict(orient='records')\n",
    "\n",
    "school_df = pd.read_sql_query(\"SELECT county_name,district_code||school_code AS school_id, school_name,rating AS summativescore FROM NJ_school_rating WHERE county_name <> 'CHARTERS' ORDER BY county_name, rating DESC\", sqlite_connection)\n",
    "school_dict = school_df.to_dict(orient='records')\n",
    "\n",
    "crime_df = pd.read_sql_query(\"SELECT county_name, murder,rape, robbery, assault, burglary, larceny, auto_theft, total FROM NJ_crime WHERE report_type = 'Number of Offenses'\", sqlite_connection)\n",
    "crime_dict = crime_df.to_dict(orient='records')\n",
    "\n",
    "sqlite_connection.close()\n",
    "\n",
    "data_json= {}\n",
    "data_json[\"metadata\"] = metadata_dict\n",
    "data_json[\"school\"] = school_dict\n",
    "data_json[\"crime\"] = crime_dict\n",
    "data_json"
   ]
  },
  {
   "cell_type": "code",
   "execution_count": null,
   "metadata": {},
   "outputs": [],
   "source": [
    "with open(\"static/data/plotly.json\", \"w\",encoding ='utf8') as outfile:  \n",
    "    json.dump(data_json, outfile, indent = 1) "
   ]
  },
  {
   "cell_type": "code",
   "execution_count": null,
   "metadata": {},
   "outputs": [],
   "source": [
    "query = '''SELECT county_name,district_name,general_tax_rate,effective_tax_rate FROM NJ_tax'''\n",
    "test = pd.read_sql_query(query, sqlite_connection)\n",
    "test"
   ]
  },
  {
   "cell_type": "code",
   "execution_count": null,
   "metadata": {},
   "outputs": [],
   "source": [
    "flare = {}\n",
    "flare[\"name\"] = \"flare\"\n",
    "flare[\"description\"] = \"flare\"\n",
    "flare"
   ]
  },
  {
   "cell_type": "code",
   "execution_count": null,
   "metadata": {},
   "outputs": [],
   "source": [
    "counties = list(test['county_name'].unique())\n",
    "# counties"
   ]
  },
  {
   "cell_type": "code",
   "execution_count": null,
   "metadata": {},
   "outputs": [],
   "source": [
    "children = []\n",
    "for i in range(len(counties)):\n",
    "    child1 = {}\n",
    "    child1[\"name\"] = counties[i]\n",
    "    child1[\"description\"] = test['effective_tax_rate'].loc[test['county_name']==counties[i]].mean()\n",
    "    district = list(test['district_name'].loc[test['county_name']==counties[i]].unique())\n",
    "    child2_list = []\n",
    "    for k in range(len(district)):\n",
    "        for index,row in test.loc[(test['county_name']==counties[i]) & (test['district_name'] == district[k])].iterrows():\n",
    "            child2 = {}\n",
    "            child2[\"name\"] = row[\"district_name\"]\n",
    "            child2[\"description\"] = row[\"general_tax_rate\"]\n",
    "            child2[\"size\"] = row[\"effective_tax_rate\"]\n",
    "            child2_list.append(child2)\n",
    "    child1[\"children\"] = child2_list\n",
    "    children.append(child1)\n",
    "children"
   ]
  },
  {
   "cell_type": "code",
   "execution_count": null,
   "metadata": {},
   "outputs": [],
   "source": [
    "flare[\"children\"] = children\n",
    "flare"
   ]
  },
  {
   "cell_type": "code",
   "execution_count": null,
   "metadata": {},
   "outputs": [],
   "source": [
    "with open(\"static/data/tax_sunburst.json\", \"w\",encoding ='utf8') as outfile:  \n",
    "    json.dump(flare, outfile, indent = 1) "
   ]
  },
  {
   "cell_type": "code",
   "execution_count": null,
   "metadata": {},
   "outputs": [],
   "source": [
    "query = ''' SELECT * FROM (SELECT county_name, police_dept, 'murder' AS crime_type, murder AS count FROM NJ_crime_detail  WHERE report_type = 'Rate Per 100,000' AND total <> 0\n",
    "        UNION ALL SELECT county_name, police_dept, 'rape' AS crime_type, rape AS count FROM NJ_crime_detail  WHERE report_type = 'Rate Per 100,000' AND total <> 0\n",
    "        UNION ALL SELECT county_name, police_dept, 'robbery' AS crime_type, robbery AS count FROM NJ_crime_detail  WHERE report_type = 'Rate Per 100,000' AND total <> 0\n",
    "        UNION ALL SELECT county_name, police_dept, 'assault' AS crime_type, assault AS count FROM NJ_crime_detail  WHERE report_type = 'Rate Per 100,000' AND total <> 0\n",
    "        UNION ALL SELECT county_name, police_dept, 'burglary' AS crime_type, burglary AS count FROM NJ_crime_detail  WHERE report_type = 'Rate Per 100,000' AND total <> 0\n",
    "        UNION ALL SELECT county_name, police_dept, 'larceny' AS crime_type, larceny AS count FROM NJ_crime_detail  WHERE report_type = 'Rate Per 100,000' AND total <> 0\n",
    "        UNION ALL SELECT county_name, police_dept, 'auto_theft' AS crime_type, auto_theft AS count FROM NJ_crime_detail  WHERE report_type = 'Rate Per 100,000' AND total <> 0)\n",
    "        ORDER BY 1,2,3'''"
   ]
  },
  {
   "cell_type": "code",
   "execution_count": null,
   "metadata": {},
   "outputs": [],
   "source": [
    "test = pd.read_sql_query(query, sqlite_connection)\n",
    "test.head()"
   ]
  },
  {
   "cell_type": "code",
   "execution_count": null,
   "metadata": {},
   "outputs": [],
   "source": [
    "flare = {}\n",
    "flare[\"name\"] = \"crime\"\n",
    "flare[\"description\"] = \"crime\"\n",
    "flare"
   ]
  },
  {
   "cell_type": "code",
   "execution_count": null,
   "metadata": {},
   "outputs": [],
   "source": [
    "counties = list(test['county_name'].unique())"
   ]
  },
  {
   "cell_type": "code",
   "execution_count": null,
   "metadata": {},
   "outputs": [],
   "source": [
    "children = []\n",
    "for i in range(len(counties)):\n",
    "    child1 = {}\n",
    "    child1[\"name\"] = counties[i]\n",
    "    child1[\"description\"] = test['count'].loc[test['county_name']==counties[i]].mean()\n",
    "    police_dept = list(test['police_dept'].loc[test['county_name']==counties[i]].unique())\n",
    "    child2_list = []\n",
    "    for k in range(len(police_dept)):\n",
    "        child2 = {}\n",
    "        child2[\"name\"] = police_dept[k]\n",
    "        child2[\"description\"] = test['count'].loc[(test['county_name']==counties[i]) & (test['police_dept'] == police_dept[k])].mean()\n",
    "        child3_list = []\n",
    "        crime_type = list(test['crime_type'].loc[(test['county_name']==counties[i]) & (test['police_dept'] == police_dept[k])].unique())\n",
    "        for j in range(len(crime_type)):\n",
    "            for index,row in test.loc[(test['county_name']==counties[i]) & (test['police_dept'] == police_dept[k]) & (test['crime_type'] == crime_type[j])].iterrows():\n",
    "                child3 = {}\n",
    "                child3[\"name\"] = row[\"crime_type\"]\n",
    "                child3[\"description\"] = row[\"count\"]\n",
    "                child3[\"size\"] = row[\"count\"]\n",
    "                child3_list.append(child3)\n",
    "            child2[\"children\"] = child3_list\n",
    "        child2_list.append(child2)\n",
    "    child1[\"children\"] = child2_list\n",
    "    children.append(child1)\n",
    "children"
   ]
  },
  {
   "cell_type": "code",
   "execution_count": null,
   "metadata": {},
   "outputs": [],
   "source": [
    "flare[\"children\"] = children\n",
    "flare"
   ]
  },
  {
   "cell_type": "code",
   "execution_count": null,
   "metadata": {},
   "outputs": [],
   "source": [
    "with open(\"static/data/crime.json\", \"w\",encoding ='utf8') as outfile:  \n",
    "    json.dump(flare, outfile, indent = 1) "
   ]
  },
  {
   "cell_type": "code",
   "execution_count": null,
   "metadata": {},
   "outputs": [],
   "source": [
    "sqlite_connection.close()"
   ]
  },
  {
   "cell_type": "markdown",
   "metadata": {},
   "source": [
    "# Linear regression"
   ]
  },
  {
   "cell_type": "code",
   "execution_count": null,
   "metadata": {},
   "outputs": [],
   "source": [
    "import matplotlib.pyplot as plt\n",
    "import seaborn as sn\n",
    "import scipy.stats as st\n",
    "from scipy.stats import linregress\n",
    "from scipy.stats import sem"
   ]
  },
  {
   "cell_type": "code",
   "execution_count": null,
   "metadata": {
    "scrolled": true
   },
   "outputs": [],
   "source": [
    "test.columns"
   ]
  },
  {
   "cell_type": "code",
   "execution_count": null,
   "metadata": {},
   "outputs": [],
   "source": [
    "test.dtypes"
   ]
  },
  {
   "cell_type": "code",
   "execution_count": null,
   "metadata": {
    "scrolled": true
   },
   "outputs": [],
   "source": [
    "# Calculate the correlation coefficient and linear regression model \n",
    "x = test['tax'].astype(float)\n",
    "# x = test['school_rank']\n",
    "y = test['total_crime']\n",
    "\n",
    "correlation = st.pearsonr(x,y)\n",
    "\n",
    "# Print the answer to above calculation\n",
    "print(f\"\"\"The correlation between school_rank and total_offense is {round(correlation[0],2)}.\"\"\")\n",
    "\n",
    "# Calculate linear regression\n",
    "(slope, intercept, rvalue, pvalue, stderr) = linregress(x, y)\n",
    "regress_values = x * slope + intercept\n",
    "line_eq = \"y = \" + str(round(slope,2)) + \"x + \" + str(round(intercept,2))\n",
    "\n",
    "# Plot linear regression on top of scatter plot\n",
    "plt.scatter(x,y)\n",
    "plt.plot(x,regress_values,\"r-\")\n",
    "\n",
    "# Annotate linear regression\n",
    "plt.annotate(line_eq,(20,36),fontsize=16,color=\"red\")\n",
    "\n",
    "# Add labels and title to plot\n",
    "plt.xlabel(\"tax\")\n",
    "plt.ylabel(\"total_crime\")\n",
    "plt.title('total_offense by tax')\n",
    "# plt.savefig(\"Images/scatter_line_plot.png\")\n",
    "plt.show()"
   ]
  },
  {
   "cell_type": "markdown",
   "metadata": {},
   "source": [
    "# GeoJson creation"
   ]
  },
  {
   "cell_type": "code",
   "execution_count": null,
   "metadata": {
    "scrolled": false
   },
   "outputs": [],
   "source": [
    "geojson_url = 'https://opendata.arcgis.com/datasets/5f45e1ece6e14ef5866974a7b57d3b95_1.geojson'\n",
    "geojson = requests.get(geojson_url).json()\n",
    "# pprint(geojson)"
   ]
  },
  {
   "cell_type": "code",
   "execution_count": null,
   "metadata": {},
   "outputs": [],
   "source": [
    "geojson.keys()"
   ]
  },
  {
   "cell_type": "code",
   "execution_count": null,
   "metadata": {},
   "outputs": [],
   "source": [
    "geojson['features'][0].keys()"
   ]
  },
  {
   "cell_type": "code",
   "execution_count": null,
   "metadata": {},
   "outputs": [],
   "source": [
    "geojson['features'][0]['geometry'].keys()"
   ]
  },
  {
   "cell_type": "code",
   "execution_count": null,
   "metadata": {},
   "outputs": [],
   "source": [
    "geojson['features'][0]['properties']['COUNTY']"
   ]
  },
  {
   "cell_type": "code",
   "execution_count": null,
   "metadata": {},
   "outputs": [],
   "source": [
    "#  SQLite DB creation and establishing connection\n",
    "database_path = \"Resources/NJ_CPS.sqlite\"\n",
    "engine = create_engine(f\"sqlite:///{database_path}\", echo=True)\n",
    "sqlite_connection = engine.connect()"
   ]
  },
  {
   "cell_type": "code",
   "execution_count": null,
   "metadata": {},
   "outputs": [],
   "source": [
    "query = '''SELECT T1.*, T2.school_rating, T3.tax_rate, T4.poverty_rate, T5.median_hh_income, T6.population\n",
    "        FROM\n",
    "        (SELECT county_name, total as crime_rate from NJ_crime WHERE report_type = 'Rate Per 100,000') AS T1\n",
    "        INNER JOIN (SELECT county_name, AVG(rating) AS school_rating FROM NJ_school_rating  GROUP BY 1) AS T2 \n",
    "        ON T1.county_name = T2.county_name\n",
    "        INNER JOIN (SELECT county_name, AVG(effective_tax_rate) AS tax_rate FROM NJ_tax GROUP BY 1) AS T3\n",
    "        ON T1.county_name = T3.county_name\n",
    "        INNER JOIN (SELECT county_name, AVG(poverty_rate) AS poverty_rate FROM NJ_poverty GROUP BY 1) AS T4\n",
    "        ON T1.county_name = T4.county_name\n",
    "        INNER JOIN (SELECT county_name, AVG(median_hh_income) AS median_hh_income FROM NJ_poverty GROUP BY 1) AS T5\n",
    "        ON T1.county_name = T5.county_name\n",
    "        INNER JOIN (SELECT county_name, SUM(population) AS population FROM NJ_population GROUP BY 1) AS T6\n",
    "        ON T1.county_name = T6.county_name\n",
    "'''"
   ]
  },
  {
   "cell_type": "code",
   "execution_count": null,
   "metadata": {},
   "outputs": [],
   "source": [
    "test = pd.read_sql_query(query, sqlite_connection)\n",
    "test.head()"
   ]
  },
  {
   "cell_type": "code",
   "execution_count": null,
   "metadata": {},
   "outputs": [],
   "source": [
    "for i in range(len(geojson['features'])):\n",
    "    county = geojson['features'][i]['properties']['COUNTY']\n",
    "    geojson['features'][i]['properties']['crime_rate'] = test['crime_rate'].loc[test['county_name']==county].item()\n",
    "    geojson['features'][i]['properties']['school_rating'] = test['school_rating'].loc[test['county_name']==county].item()\n",
    "    geojson['features'][i]['properties']['tax_rate'] = test['tax_rate'].loc[test['county_name']==county].item()\n",
    "    geojson['features'][i]['properties']['poverty_rate'] = test['poverty_rate'].loc[test['county_name']==county].item()\n",
    "    geojson['features'][i]['properties']['median_hh_income'] = test['median_hh_income'].loc[test['county_name']==county].item()\n",
    "    geojson['features'][i]['properties']['population'] = test['crime_rate'].loc[test['county_name']==county].item()"
   ]
  },
  {
   "cell_type": "code",
   "execution_count": null,
   "metadata": {},
   "outputs": [],
   "source": [
    "geojson['features'][0]"
   ]
  },
  {
   "cell_type": "code",
   "execution_count": null,
   "metadata": {},
   "outputs": [],
   "source": [
    "with open(\"static/data/final.geojson\", \"w\",encoding ='utf8') as outfile:  \n",
    "    json.dump(geojson, outfile) "
   ]
  },
  {
   "cell_type": "code",
   "execution_count": null,
   "metadata": {},
   "outputs": [],
   "source": [
    "# test\n",
    "f = open(\"static/data/final_data.json\")\n",
    "geojson = json.load(f)\n",
    "pprint(geojson)"
   ]
  },
  {
   "cell_type": "code",
   "execution_count": null,
   "metadata": {},
   "outputs": [],
   "source": []
  },
  {
   "cell_type": "code",
   "execution_count": null,
   "metadata": {},
   "outputs": [],
   "source": [
    "connection_string = f\"{user_nm}:{user_pw}@localhost:{user_port}/world_db\"\n",
    "engine = create_engine(f'postgresql://{connection_string}')"
   ]
  },
  {
   "cell_type": "code",
   "execution_count": null,
   "metadata": {},
   "outputs": [],
   "source": []
  },
  {
   "cell_type": "code",
   "execution_count": null,
   "metadata": {},
   "outputs": [],
   "source": []
  }
 ],
 "metadata": {
  "kernelspec": {
   "display_name": "Python (PythonData)",
   "language": "python",
   "name": "myenv"
  },
  "language_info": {
   "codemirror_mode": {
    "name": "ipython",
    "version": 3
   },
   "file_extension": ".py",
   "mimetype": "text/x-python",
   "name": "python",
   "nbconvert_exporter": "python",
   "pygments_lexer": "ipython3",
   "version": "3.8.5"
  }
 },
 "nbformat": 4,
 "nbformat_minor": 4
}
